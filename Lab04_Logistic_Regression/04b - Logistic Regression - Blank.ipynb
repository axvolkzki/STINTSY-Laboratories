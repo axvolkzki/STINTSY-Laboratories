{
 "cells": [
  {
   "cell_type": "markdown",
   "metadata": {
    "id": "aAcNI4oG2SXZ"
   },
   "source": [
    "# Logistic Regression Exercise\n",
    "\n",
    "This exercise will guide you in implementing a linear model for classification, namely logistic regression, to gain intuitions and develop an understanding of classification models.\n",
    "\n",
    "In this notebook, we will make and train a logistic regression model using sklearn's `SGDClassifier`. We will first do it on a toy dataset (and visualize its decision boundaries), and then on an image dataset."
   ]
  },
  {
   "cell_type": "markdown",
   "metadata": {
    "id": "HNOXU-E-2SXh"
   },
   "source": [
    "## Instructions for All Labs\n",
    "* Read each cell and implement the TODOs sequentially. The markdown/text cells also contain instructions which you need to follow to get the whole notebook working.\n",
    "* Do not change the variable names unless the instructor allows you to.\n",
    "* Some markdown cells contain questions.\n",
    "  * For questions <span style=\"color:red;\">colored in red</span>, you must submit your answers in the corresponding Assignment in the course page. Make sure that you enter your responses in the item with the matching question code. Answers that do not follow the prescribed format will automatically be marked wrong by the checker.\n",
    "  * For questions <span style=\"color:green;\">colored in green</span>, you don't have to submit your answers, but you must think about these questions as they will help enrich your understanding of the concepts covered in the labs.\n",
    "* You are expected to search how to some functions work on the Internet or via the docs. \n",
    "* You may add new cells for \"scrap work\".\n",
    "* The notebooks will undergo a \"Restart and Run All\" command, so make sure that your code is working properly.\n",
    "* You may not reproduce this notebook or share them to anyone."
   ]
  },
  {
   "cell_type": "markdown",
   "metadata": {
    "id": "F42gkFJ72SXm"
   },
   "source": [
    "## Import\n",
    "Import **matplotlib**, **numpy**, **random**, and **h5py**."
   ]
  },
  {
   "cell_type": "code",
   "execution_count": 104,
   "metadata": {
    "executionInfo": {
     "elapsed": 6,
     "status": "ok",
     "timestamp": 1657871738707,
     "user": {
      "displayName": "Courtney Ngo",
      "userId": "01361140591205022195"
     },
     "user_tz": -480
    },
    "id": "uYAeGWxD2SXq"
   },
   "outputs": [
    {
     "name": "stdout",
     "output_type": "stream",
     "text": [
      "The autoreload extension is already loaded. To reload it, use:\n",
      "  %reload_ext autoreload\n"
     ]
    }
   ],
   "source": [
    "import matplotlib.pyplot as plt\n",
    "%matplotlib inline\n",
    "import numpy as np\n",
    "import random\n",
    "import h5py\n",
    "\n",
    "plt.style.use('ggplot')\n",
    "\n",
    "%load_ext autoreload\n",
    "%autoreload 2"
   ]
  },
  {
   "cell_type": "markdown",
   "metadata": {
    "id": "JrjeXeRH2SXs"
   },
   "source": [
    "## Toy dataset\n",
    "\n",
    "Before we use a more complicated dataset, we will first demonstrate linear regression using a toy dataset. Let's use the `make_blobs()` function to create a dataset with 1100 instances centered in (-5, -1) and (-1, -4)."
   ]
  },
  {
   "cell_type": "code",
   "execution_count": 105,
   "metadata": {
    "executionInfo": {
     "elapsed": 698,
     "status": "ok",
     "timestamp": 1657871739401,
     "user": {
      "displayName": "Courtney Ngo",
      "userId": "01361140591205022195"
     },
     "user_tz": -480
    },
    "id": "3SuPudC92SXt",
    "scrolled": true
   },
   "outputs": [],
   "source": [
    "from sklearn.datasets import make_blobs\n",
    "\n",
    "centers = [[-5, -1], [-1, -4]]\n",
    "\n",
    "X, y = make_blobs(n_samples=1100, \n",
    "                  centers=centers, \n",
    "                  random_state=1)"
   ]
  },
  {
   "cell_type": "markdown",
   "metadata": {
    "id": "5PpFIJT82SX1"
   },
   "source": [
    "Let's get the number of instances with label `True` or 1 and the number of instances with label `False` or 0."
   ]
  },
  {
   "cell_type": "code",
   "execution_count": 106,
   "metadata": {
    "colab": {
     "base_uri": "https://localhost:8080/"
    },
    "executionInfo": {
     "elapsed": 832,
     "status": "ok",
     "timestamp": 1657871740230,
     "user": {
      "displayName": "Courtney Ngo",
      "userId": "01361140591205022195"
     },
     "user_tz": -480
    },
    "id": "YTxJ_eyM2SX4",
    "outputId": "c0fd6479-9274-41b6-e770-d20c903269bf"
   },
   "outputs": [
    {
     "name": "stdout",
     "output_type": "stream",
     "text": [
      "Number of True: 550\n",
      "Number of False: 550\n"
     ]
    }
   ],
   "source": [
    "X_true = X[y == 1]\n",
    "X_false = X[y == 0]\n",
    "\n",
    "print('Number of True:', len(X_true))\n",
    "print('Number of False:', len(X_false))"
   ]
  },
  {
   "cell_type": "markdown",
   "metadata": {
    "id": "UY-8I7rV2SX6"
   },
   "source": [
    "There are 550 `True` instances and 550 `False` instances."
   ]
  },
  {
   "cell_type": "markdown",
   "metadata": {
    "id": "YvGZ-xa62SX-"
   },
   "source": [
    "Let's divide the dataset into train and test set. The test set will contain 50 instances of `True` and 50 instances of `False`."
   ]
  },
  {
   "cell_type": "code",
   "execution_count": 107,
   "metadata": {
    "colab": {
     "base_uri": "https://localhost:8080/"
    },
    "executionInfo": {
     "elapsed": 25,
     "status": "ok",
     "timestamp": 1657871740231,
     "user": {
      "displayName": "Courtney Ngo",
      "userId": "01361140591205022195"
     },
     "user_tz": -480
    },
    "id": "SSqAhn2c2SYM",
    "outputId": "ba529ccf-1d83-458d-8ac8-c6fde1a7492b"
   },
   "outputs": [
    {
     "name": "stdout",
     "output_type": "stream",
     "text": [
      "(100, 2)\n",
      "(100,)\n"
     ]
    }
   ],
   "source": [
    "np.random.seed(1)\n",
    "\n",
    "# Select 50 `True` instances\n",
    "selected_true = np.random.choice(np.arange(len(X_true)),\n",
    "                                 size=50,\n",
    "                                 replace=False)\n",
    "\n",
    "# Select 50 `False` instances\n",
    "selected_false = np.random.choice(np.arange(len(X_false)),\n",
    "                                  size=50,\n",
    "                                  replace=False)\n",
    "\n",
    "# Form the test set\n",
    "X_test = np.concatenate((X_true[selected_true], \n",
    "                         X_false[selected_false]))\n",
    "y_test = np.concatenate((np.array([1 for _ in range(50)]),\n",
    "                         np.array([0 for _ in range(50)])))\n",
    "\n",
    "print(X_test.shape)\n",
    "print(y_test.shape)"
   ]
  },
  {
   "cell_type": "markdown",
   "metadata": {
    "id": "GTOjVYUQ2SYO"
   },
   "source": [
    "The remaining 1000 instances will be a part of the train set, where 500 are `True` and 500 are `False`."
   ]
  },
  {
   "cell_type": "code",
   "execution_count": 108,
   "metadata": {
    "colab": {
     "base_uri": "https://localhost:8080/"
    },
    "executionInfo": {
     "elapsed": 22,
     "status": "ok",
     "timestamp": 1657871740232,
     "user": {
      "displayName": "Courtney Ngo",
      "userId": "01361140591205022195"
     },
     "user_tz": -480
    },
    "id": "Nqeijddd2SYp",
    "outputId": "9041cb3d-417e-4960-b2fe-2e1784cebd22"
   },
   "outputs": [
    {
     "name": "stdout",
     "output_type": "stream",
     "text": [
      "(1000, 2)\n",
      "(1000,)\n"
     ]
    }
   ],
   "source": [
    "X_train = np.concatenate((np.delete(X_true, selected_true, 0),\n",
    "                          np.delete(X_false, selected_false, 0)))\n",
    "y_train = np.concatenate((np.array([1 for _ in range(500)]),\n",
    "                          np.array([0 for _ in range(500)])))\n",
    "\n",
    "print(X_train.shape)\n",
    "print(y_train.shape)"
   ]
  },
  {
   "cell_type": "markdown",
   "metadata": {
    "id": "aNM83Z3L2SYp"
   },
   "source": [
    "Visualize the train data."
   ]
  },
  {
   "cell_type": "code",
   "execution_count": 109,
   "metadata": {
    "colab": {
     "base_uri": "https://localhost:8080/",
     "height": 300
    },
    "executionInfo": {
     "elapsed": 19,
     "status": "ok",
     "timestamp": 1657871740233,
     "user": {
      "displayName": "Courtney Ngo",
      "userId": "01361140591205022195"
     },
     "user_tz": -480
    },
    "id": "AsIPrx2P2SYq",
    "outputId": "11b1376d-770b-495f-e775-f6d2f71f6832"
   },
   "outputs": [
    {
     "data": {
      "text/plain": [
       "Text(0.5, 1.0, 'Train data')"
      ]
     },
     "execution_count": 109,
     "metadata": {},
     "output_type": "execute_result"
    },
    {
     "data": {
      "image/png": "[encoded data removed]",
      "text/plain": [
       "<Figure size 640x480 with 1 Axes>"
      ]
     },
     "metadata": {},
     "output_type": "display_data"
    }
   ],
   "source": [
    "plt.scatter(X_train[:, 0], X_train[:, 1], c=y_train)\n",
    "plt.title('Train data')"
   ]
  },
  {
   "cell_type": "markdown",
   "metadata": {
    "id": "YuuF6eSk2SYs"
   },
   "source": [
    "Visualize the test data."
   ]
  },
  {
   "cell_type": "code",
   "execution_count": 110,
   "metadata": {
    "colab": {
     "base_uri": "https://localhost:8080/",
     "height": 300
    },
    "executionInfo": {
     "elapsed": 1205,
     "status": "ok",
     "timestamp": 1657871741425,
     "user": {
      "displayName": "Courtney Ngo",
      "userId": "01361140591205022195"
     },
     "user_tz": -480
    },
    "id": "48k9-50Y2SYs",
    "outputId": "659d0d19-7d0c-4d5e-854c-7c333dfa5f93"
   },
   "outputs": [
    {
     "data": {
      "text/plain": [
       "Text(0.5, 1.0, 'Test data')"
      ]
     },
     "execution_count": 110,
     "metadata": {},
     "output_type": "execute_result"
    },
    {
     "data": {
      "image/png": "[encoded data removed]",
      "text/plain": [
       "<Figure size 640x480 with 1 Axes>"
      ]
     },
     "metadata": {},
     "output_type": "display_data"
    }
   ],
   "source": [
    "plt.scatter(X_test[:, 0], X_test[:, 1], c=y_test)\n",
    "plt.title('Test data')"
   ]
  },
  {
   "cell_type": "markdown",
   "metadata": {
    "id": "Fsmsejds2SYt"
   },
   "source": [
    "## Binomial Logistic Regression on the Toy Dataset\n",
    "\n",
    "Use `sklearn`'s `SGDClassifier` to create your logistic regression model. Since we only have two classes (`True` or `False`), we will be implementing a binomial logistic regression."
   ]
  },
  {
   "cell_type": "markdown",
   "metadata": {
    "id": "JUBAP5ui2SYt"
   },
   "source": [
    "Import the `SGDClassifier` class."
   ]
  },
  {
   "cell_type": "code",
   "execution_count": 111,
   "metadata": {
    "executionInfo": {
     "elapsed": 62,
     "status": "ok",
     "timestamp": 1657871741428,
     "user": {
      "displayName": "Courtney Ngo",
      "userId": "01361140591205022195"
     },
     "user_tz": -480
    },
    "id": "7RgXDCg-2SYt"
   },
   "outputs": [],
   "source": [
    "from sklearn.linear_model import SGDClassifier"
   ]
  },
  {
   "cell_type": "markdown",
   "metadata": {
    "id": "5ExRgXaz2SYu"
   },
   "source": [
    "Instantiate an `SGDClassifier` object. Set the following hyperparameters:\n",
    "- Loss function: 'log_loss'\n",
    "- Initial learning rate: 0.001\n",
    "- Maximum iterations: 200\n",
    "- Learning rate: 'constant'\n",
    "- Random state: 1\n",
    "- Verbose: 1\n",
    "\n",
    "See the documentation [here](https://scikit-learn.org/stable/modules/generated/sklearn.linear_model.SGDClassifier.html)."
   ]
  },
  {
   "cell_type": "code",
   "execution_count": 112,
   "metadata": {
    "executionInfo": {
     "elapsed": 61,
     "status": "ok",
     "timestamp": 1657871741429,
     "user": {
      "displayName": "Courtney Ngo",
      "userId": "01361140591205022195"
     },
     "user_tz": -480
    },
    "id": "De6Za-I42SYu"
   },
   "outputs": [],
   "source": [
    "# Write your code here\n",
    "model = SGDClassifier(loss='log_loss', eta0=0.001, max_iter=200, learning_rate='constant', random_state=1, verbose=1)"
   ]
  },
  {
   "cell_type": "markdown",
   "metadata": {
    "id": "Ar2nv2RF2SYw"
   },
   "source": [
    "Train by calling the `fit()` function of the model."
   ]
  },
  {
   "cell_type": "code",
   "execution_count": 113,
   "metadata": {
    "colab": {
     "base_uri": "https://localhost:8080/"
    },
    "executionInfo": {
     "elapsed": 66,
     "status": "ok",
     "timestamp": 1657871741435,
     "user": {
      "displayName": "Courtney Ngo",
      "userId": "01361140591205022195"
     },
     "user_tz": -480
    },
    "id": "JHLJ70Om2SY2",
    "outputId": "8eb20036-583f-4d26-a5fa-f6ba1a2ed5df"
   },
   "outputs": [
    {
     "name": "stdout",
     "output_type": "stream",
     "text": [
      "-- Epoch 1\n",
      "Norm: 0.65, NNZs: 2, Bias: 0.027154, T: 1000, Avg. loss: 0.362292\n",
      "Total training time: 0.00 seconds.\n",
      "-- Epoch 2\n",
      "Norm: 0.92, NNZs: 2, Bias: 0.046066, T: 2000, Avg. loss: 0.171518\n",
      "Total training time: 0.00 seconds.\n",
      "-- Epoch 3\n",
      "Norm: 1.10, NNZs: 2, Bias: 0.058825, T: 3000, Avg. loss: 0.122446\n",
      "Total training time: 0.00 seconds.\n",
      "-- Epoch 4\n",
      "Norm: 1.23, NNZs: 2, Bias: 0.068560, T: 4000, Avg. loss: 0.098901\n",
      "Total training time: 0.00 seconds.\n",
      "-- Epoch 5\n",
      "Norm: 1.34, NNZs: 2, Bias: 0.078180, T: 5000, Avg. loss: 0.084831\n",
      "Total training time: 0.00 seconds.\n",
      "-- Epoch 6\n",
      "Norm: 1.42, NNZs: 2, Bias: 0.087723, T: 6000, Avg. loss: 0.075267\n",
      "Total training time: 0.00 seconds.\n",
      "-- Epoch 7\n",
      "Norm: 1.50, NNZs: 2, Bias: 0.094555, T: 7000, Avg. loss: 0.068305\n",
      "Total training time: 0.00 seconds.\n",
      "-- Epoch 8\n",
      "Norm: 1.57, NNZs: 2, Bias: 0.102167, T: 8000, Avg. loss: 0.062988\n",
      "Total training time: 0.00 seconds.\n",
      "-- Epoch 9\n",
      "Norm: 1.63, NNZs: 2, Bias: 0.108601, T: 9000, Avg. loss: 0.058761\n",
      "Total training time: 0.00 seconds.\n",
      "-- Epoch 10\n",
      "Norm: 1.69, NNZs: 2, Bias: 0.113880, T: 10000, Avg. loss: 0.055287\n",
      "Total training time: 0.00 seconds.\n",
      "-- Epoch 11\n",
      "Norm: 1.74, NNZs: 2, Bias: 0.119788, T: 11000, Avg. loss: 0.052413\n",
      "Total training time: 0.00 seconds.\n",
      "-- Epoch 12\n",
      "Norm: 1.79, NNZs: 2, Bias: 0.125071, T: 12000, Avg. loss: 0.049959\n",
      "Total training time: 0.00 seconds.\n",
      "-- Epoch 13\n",
      "Norm: 1.83, NNZs: 2, Bias: 0.130729, T: 13000, Avg. loss: 0.047839\n",
      "Total training time: 0.00 seconds.\n",
      "-- Epoch 14\n",
      "Norm: 1.87, NNZs: 2, Bias: 0.135775, T: 14000, Avg. loss: 0.045993\n",
      "Total training time: 0.00 seconds.\n",
      "-- Epoch 15\n",
      "Norm: 1.91, NNZs: 2, Bias: 0.140641, T: 15000, Avg. loss: 0.044363\n",
      "Total training time: 0.00 seconds.\n",
      "-- Epoch 16\n",
      "Norm: 1.95, NNZs: 2, Bias: 0.145275, T: 16000, Avg. loss: 0.042912\n",
      "Total training time: 0.00 seconds.\n",
      "-- Epoch 17\n",
      "Norm: 1.98, NNZs: 2, Bias: 0.149591, T: 17000, Avg. loss: 0.041611\n",
      "Total training time: 0.00 seconds.\n",
      "-- Epoch 18\n",
      "Norm: 2.01, NNZs: 2, Bias: 0.153268, T: 18000, Avg. loss: 0.040427\n",
      "Total training time: 0.00 seconds.\n",
      "-- Epoch 19\n",
      "Norm: 2.05, NNZs: 2, Bias: 0.157335, T: 19000, Avg. loss: 0.039364\n",
      "Total training time: 0.00 seconds.\n",
      "-- Epoch 20\n",
      "Norm: 2.08, NNZs: 2, Bias: 0.162033, T: 20000, Avg. loss: 0.038379\n",
      "Total training time: 0.00 seconds.\n",
      "-- Epoch 21\n",
      "Norm: 2.10, NNZs: 2, Bias: 0.166081, T: 21000, Avg. loss: 0.037492\n",
      "Total training time: 0.00 seconds.\n",
      "-- Epoch 22\n",
      "Norm: 2.13, NNZs: 2, Bias: 0.169647, T: 22000, Avg. loss: 0.036665\n",
      "Total training time: 0.00 seconds.\n",
      "-- Epoch 23\n",
      "Norm: 2.16, NNZs: 2, Bias: 0.173408, T: 23000, Avg. loss: 0.035901\n",
      "Total training time: 0.00 seconds.\n",
      "-- Epoch 24\n",
      "Norm: 2.18, NNZs: 2, Bias: 0.177359, T: 24000, Avg. loss: 0.035189\n",
      "Total training time: 0.00 seconds.\n",
      "Convergence after 24 epochs took 0.00 seconds\n"
     ]
    },
    {
     "data": {
      "text/html": [
       "<style>#sk-container-id-5 {\n",
       "  /* Definition of color scheme common for light and dark mode */\n",
       "  --sklearn-color-text: black;\n",
       "  --sklearn-color-line: gray;\n",
       "  /* Definition of color scheme for unfitted estimators */\n",
       "  --sklearn-color-unfitted-level-0: #fff5e6;\n",
       "  --sklearn-color-unfitted-level-1: #f6e4d2;\n",
       "  --sklearn-color-unfitted-level-2: #ffe0b3;\n",
       "  --sklearn-color-unfitted-level-3: chocolate;\n",
       "  /* Definition of color scheme for fitted estimators */\n",
       "  --sklearn-color-fitted-level-0: #f0f8ff;\n",
       "  --sklearn-color-fitted-level-1: #d4ebff;\n",
       "  --sklearn-color-fitted-level-2: #b3dbfd;\n",
       "  --sklearn-color-fitted-level-3: cornflowerblue;\n",
       "\n",
       "  /* Specific color for light theme */\n",
       "  --sklearn-color-text-on-default-background: var(--sg-text-color, var(--theme-code-foreground, var(--jp-content-font-color1, black)));\n",
       "  --sklearn-color-background: var(--sg-background-color, var(--theme-background, var(--jp-layout-color0, white)));\n",
       "  --sklearn-color-border-box: var(--sg-text-color, var(--theme-code-foreground, var(--jp-content-font-color1, black)));\n",
       "  --sklearn-color-icon: #696969;\n",
       "\n",
       "  @media (prefers-color-scheme: dark) {\n",
       "    /* Redefinition of color scheme for dark theme */\n",
       "    --sklearn-color-text-on-default-background: var(--sg-text-color, var(--theme-code-foreground, var(--jp-content-font-color1, white)));\n",
       "    --sklearn-color-background: var(--sg-background-color, var(--theme-background, var(--jp-layout-color0, #111)));\n",
       "    --sklearn-color-border-box: var(--sg-text-color, var(--theme-code-foreground, var(--jp-content-font-color1, white)));\n",
       "    --sklearn-color-icon: #878787;\n",
       "  }\n",
       "}\n",
       "\n",
       "#sk-container-id-5 {\n",
       "  color: var(--sklearn-color-text);\n",
       "}\n",
       "\n",
       "#sk-container-id-5 pre {\n",
       "  padding: 0;\n",
       "}\n",
       "\n",
       "#sk-container-id-5 input.sk-hidden--visually {\n",
       "  border: 0;\n",
       "  clip: rect(1px 1px 1px 1px);\n",
       "  clip: rect(1px, 1px, 1px, 1px);\n",
       "  height: 1px;\n",
       "  margin: -1px;\n",
       "  overflow: hidden;\n",
       "  padding: 0;\n",
       "  position: absolute;\n",
       "  width: 1px;\n",
       "}\n",
       "\n",
       "#sk-container-id-5 div.sk-dashed-wrapped {\n",
       "  border: 1px dashed var(--sklearn-color-line);\n",
       "  margin: 0 0.4em 0.5em 0.4em;\n",
       "  box-sizing: border-box;\n",
       "  padding-bottom: 0.4em;\n",
       "  background-color: var(--sklearn-color-background);\n",
       "}\n",
       "\n",
       "#sk-container-id-5 div.sk-container {\n",
       "  /* jupyter's `normalize.less` sets `[hidden] { display: none; }`\n",
       "     but bootstrap.min.css set `[hidden] { display: none !important; }`\n",
       "     so we also need the `!important` here to be able to override the\n",
       "     default hidden behavior on the sphinx rendered scikit-learn.org.\n",
       "     See: https://github.com/scikit-learn/scikit-learn/issues/21755 */\n",
       "  display: inline-block !important;\n",
       "  position: relative;\n",
       "}\n",
       "\n",
       "#sk-container-id-5 div.sk-text-repr-fallback {\n",
       "  display: none;\n",
       "}\n",
       "\n",
       "div.sk-parallel-item,\n",
       "div.sk-serial,\n",
       "div.sk-item {\n",
       "  /* draw centered vertical line to link estimators */\n",
       "  background-image: linear-gradient(var(--sklearn-color-text-on-default-background), var(--sklearn-color-text-on-default-background));\n",
       "  background-size: 2px 100%;\n",
       "  background-repeat: no-repeat;\n",
       "  background-position: center center;\n",
       "}\n",
       "\n",
       "/* Parallel-specific style estimator block */\n",
       "\n",
       "#sk-container-id-5 div.sk-parallel-item::after {\n",
       "  content: \"\";\n",
       "  width: 100%;\n",
       "  border-bottom: 2px solid var(--sklearn-color-text-on-default-background);\n",
       "  flex-grow: 1;\n",
       "}\n",
       "\n",
       "#sk-container-id-5 div.sk-parallel {\n",
       "  display: flex;\n",
       "  align-items: stretch;\n",
       "  justify-content: center;\n",
       "  background-color: var(--sklearn-color-background);\n",
       "  position: relative;\n",
       "}\n",
       "\n",
       "#sk-container-id-5 div.sk-parallel-item {\n",
       "  display: flex;\n",
       "  flex-direction: column;\n",
       "}\n",
       "\n",
       "#sk-container-id-5 div.sk-parallel-item:first-child::after {\n",
       "  align-self: flex-end;\n",
       "  width: 50%;\n",
       "}\n",
       "\n",
       "#sk-container-id-5 div.sk-parallel-item:last-child::after {\n",
       "  align-self: flex-start;\n",
       "  width: 50%;\n",
       "}\n",
       "\n",
       "#sk-container-id-5 div.sk-parallel-item:only-child::after {\n",
       "  width: 0;\n",
       "}\n",
       "\n",
       "/* Serial-specific style estimator block */\n",
       "\n",
       "#sk-container-id-5 div.sk-serial {\n",
       "  display: flex;\n",
       "  flex-direction: column;\n",
       "  align-items: center;\n",
       "  background-color: var(--sklearn-color-background);\n",
       "  padding-right: 1em;\n",
       "  padding-left: 1em;\n",
       "}\n",
       "\n",
       "\n",
       "/* Toggleable style: style used for estimator/Pipeline/ColumnTransformer box that is\n",
       "clickable and can be expanded/collapsed.\n",
       "- Pipeline and ColumnTransformer use this feature and define the default style\n",
       "- Estimators will overwrite some part of the style using the `sk-estimator` class\n",
       "*/\n",
       "\n",
       "/* Pipeline and ColumnTransformer style (default) */\n",
       "\n",
       "#sk-container-id-5 div.sk-toggleable {\n",
       "  /* Default theme specific background. It is overwritten whether we have a\n",
       "  specific estimator or a Pipeline/ColumnTransformer */\n",
       "  background-color: var(--sklearn-color-background);\n",
       "}\n",
       "\n",
       "/* Toggleable label */\n",
       "#sk-container-id-5 label.sk-toggleable__label {\n",
       "  cursor: pointer;\n",
       "  display: block;\n",
       "  width: 100%;\n",
       "  margin-bottom: 0;\n",
       "  padding: 0.5em;\n",
       "  box-sizing: border-box;\n",
       "  text-align: center;\n",
       "}\n",
       "\n",
       "#sk-container-id-5 label.sk-toggleable__label-arrow:before {\n",
       "  /* Arrow on the left of the label */\n",
       "  content: \"▸\";\n",
       "  float: left;\n",
       "  margin-right: 0.25em;\n",
       "  color: var(--sklearn-color-icon);\n",
       "}\n",
       "\n",
       "#sk-container-id-5 label.sk-toggleable__label-arrow:hover:before {\n",
       "  color: var(--sklearn-color-text);\n",
       "}\n",
       "\n",
       "/* Toggleable content - dropdown */\n",
       "\n",
       "#sk-container-id-5 div.sk-toggleable__content {\n",
       "  max-height: 0;\n",
       "  max-width: 0;\n",
       "  overflow: hidden;\n",
       "  text-align: left;\n",
       "  /* unfitted */\n",
       "  background-color: var(--sklearn-color-unfitted-level-0);\n",
       "}\n",
       "\n",
       "#sk-container-id-5 div.sk-toggleable__content.fitted {\n",
       "  /* fitted */\n",
       "  background-color: var(--sklearn-color-fitted-level-0);\n",
       "}\n",
       "\n",
       "#sk-container-id-5 div.sk-toggleable__content pre {\n",
       "  margin: 0.2em;\n",
       "  border-radius: 0.25em;\n",
       "  color: var(--sklearn-color-text);\n",
       "  /* unfitted */\n",
       "  background-color: var(--sklearn-color-unfitted-level-0);\n",
       "}\n",
       "\n",
       "#sk-container-id-5 div.sk-toggleable__content.fitted pre {\n",
       "  /* unfitted */\n",
       "  background-color: var(--sklearn-color-fitted-level-0);\n",
       "}\n",
       "\n",
       "#sk-container-id-5 input.sk-toggleable__control:checked~div.sk-toggleable__content {\n",
       "  /* Expand drop-down */\n",
       "  max-height: 200px;\n",
       "  max-width: 100%;\n",
       "  overflow: auto;\n",
       "}\n",
       "\n",
       "#sk-container-id-5 input.sk-toggleable__control:checked~label.sk-toggleable__label-arrow:before {\n",
       "  content: \"▾\";\n",
       "}\n",
       "\n",
       "/* Pipeline/ColumnTransformer-specific style */\n",
       "\n",
       "#sk-container-id-5 div.sk-label input.sk-toggleable__control:checked~label.sk-toggleable__label {\n",
       "  color: var(--sklearn-color-text);\n",
       "  background-color: var(--sklearn-color-unfitted-level-2);\n",
       "}\n",
       "\n",
       "#sk-container-id-5 div.sk-label.fitted input.sk-toggleable__control:checked~label.sk-toggleable__label {\n",
       "  background-color: var(--sklearn-color-fitted-level-2);\n",
       "}\n",
       "\n",
       "/* Estimator-specific style */\n",
       "\n",
       "/* Colorize estimator box */\n",
       "#sk-container-id-5 div.sk-estimator input.sk-toggleable__control:checked~label.sk-toggleable__label {\n",
       "  /* unfitted */\n",
       "  background-color: var(--sklearn-color-unfitted-level-2);\n",
       "}\n",
       "\n",
       "#sk-container-id-5 div.sk-estimator.fitted input.sk-toggleable__control:checked~label.sk-toggleable__label {\n",
       "  /* fitted */\n",
       "  background-color: var(--sklearn-color-fitted-level-2);\n",
       "}\n",
       "\n",
       "#sk-container-id-5 div.sk-label label.sk-toggleable__label,\n",
       "#sk-container-id-5 div.sk-label label {\n",
       "  /* The background is the default theme color */\n",
       "  color: var(--sklearn-color-text-on-default-background);\n",
       "}\n",
       "\n",
       "/* On hover, darken the color of the background */\n",
       "#sk-container-id-5 div.sk-label:hover label.sk-toggleable__label {\n",
       "  color: var(--sklearn-color-text);\n",
       "  background-color: var(--sklearn-color-unfitted-level-2);\n",
       "}\n",
       "\n",
       "/* Label box, darken color on hover, fitted */\n",
       "#sk-container-id-5 div.sk-label.fitted:hover label.sk-toggleable__label.fitted {\n",
       "  color: var(--sklearn-color-text);\n",
       "  background-color: var(--sklearn-color-fitted-level-2);\n",
       "}\n",
       "\n",
       "/* Estimator label */\n",
       "\n",
       "#sk-container-id-5 div.sk-label label {\n",
       "  font-family: monospace;\n",
       "  font-weight: bold;\n",
       "  display: inline-block;\n",
       "  line-height: 1.2em;\n",
       "}\n",
       "\n",
       "#sk-container-id-5 div.sk-label-container {\n",
       "  text-align: center;\n",
       "}\n",
       "\n",
       "/* Estimator-specific */\n",
       "#sk-container-id-5 div.sk-estimator {\n",
       "  font-family: monospace;\n",
       "  border: 1px dotted var(--sklearn-color-border-box);\n",
       "  border-radius: 0.25em;\n",
       "  box-sizing: border-box;\n",
       "  margin-bottom: 0.5em;\n",
       "  /* unfitted */\n",
       "  background-color: var(--sklearn-color-unfitted-level-0);\n",
       "}\n",
       "\n",
       "#sk-container-id-5 div.sk-estimator.fitted {\n",
       "  /* fitted */\n",
       "  background-color: var(--sklearn-color-fitted-level-0);\n",
       "}\n",
       "\n",
       "/* on hover */\n",
       "#sk-container-id-5 div.sk-estimator:hover {\n",
       "  /* unfitted */\n",
       "  background-color: var(--sklearn-color-unfitted-level-2);\n",
       "}\n",
       "\n",
       "#sk-container-id-5 div.sk-estimator.fitted:hover {\n",
       "  /* fitted */\n",
       "  background-color: var(--sklearn-color-fitted-level-2);\n",
       "}\n",
       "\n",
       "/* Specification for estimator info (e.g. \"i\" and \"?\") */\n",
       "\n",
       "/* Common style for \"i\" and \"?\" */\n",
       "\n",
       ".sk-estimator-doc-link,\n",
       "a:link.sk-estimator-doc-link,\n",
       "a:visited.sk-estimator-doc-link {\n",
       "  float: right;\n",
       "  font-size: smaller;\n",
       "  line-height: 1em;\n",
       "  font-family: monospace;\n",
       "  background-color: var(--sklearn-color-background);\n",
       "  border-radius: 1em;\n",
       "  height: 1em;\n",
       "  width: 1em;\n",
       "  text-decoration: none !important;\n",
       "  margin-left: 1ex;\n",
       "  /* unfitted */\n",
       "  border: var(--sklearn-color-unfitted-level-1) 1pt solid;\n",
       "  color: var(--sklearn-color-unfitted-level-1);\n",
       "}\n",
       "\n",
       ".sk-estimator-doc-link.fitted,\n",
       "a:link.sk-estimator-doc-link.fitted,\n",
       "a:visited.sk-estimator-doc-link.fitted {\n",
       "  /* fitted */\n",
       "  border: var(--sklearn-color-fitted-level-1) 1pt solid;\n",
       "  color: var(--sklearn-color-fitted-level-1);\n",
       "}\n",
       "\n",
       "/* On hover */\n",
       "div.sk-estimator:hover .sk-estimator-doc-link:hover,\n",
       ".sk-estimator-doc-link:hover,\n",
       "div.sk-label-container:hover .sk-estimator-doc-link:hover,\n",
       ".sk-estimator-doc-link:hover {\n",
       "  /* unfitted */\n",
       "  background-color: var(--sklearn-color-unfitted-level-3);\n",
       "  color: var(--sklearn-color-background);\n",
       "  text-decoration: none;\n",
       "}\n",
       "\n",
       "div.sk-estimator.fitted:hover .sk-estimator-doc-link.fitted:hover,\n",
       ".sk-estimator-doc-link.fitted:hover,\n",
       "div.sk-label-container:hover .sk-estimator-doc-link.fitted:hover,\n",
       ".sk-estimator-doc-link.fitted:hover {\n",
       "  /* fitted */\n",
       "  background-color: var(--sklearn-color-fitted-level-3);\n",
       "  color: var(--sklearn-color-background);\n",
       "  text-decoration: none;\n",
       "}\n",
       "\n",
       "/* Span, style for the box shown on hovering the info icon */\n",
       ".sk-estimator-doc-link span {\n",
       "  display: none;\n",
       "  z-index: 9999;\n",
       "  position: relative;\n",
       "  font-weight: normal;\n",
       "  right: .2ex;\n",
       "  padding: .5ex;\n",
       "  margin: .5ex;\n",
       "  width: min-content;\n",
       "  min-width: 20ex;\n",
       "  max-width: 50ex;\n",
       "  color: var(--sklearn-color-text);\n",
       "  box-shadow: 2pt 2pt 4pt #999;\n",
       "  /* unfitted */\n",
       "  background: var(--sklearn-color-unfitted-level-0);\n",
       "  border: .5pt solid var(--sklearn-color-unfitted-level-3);\n",
       "}\n",
       "\n",
       ".sk-estimator-doc-link.fitted span {\n",
       "  /* fitted */\n",
       "  background: var(--sklearn-color-fitted-level-0);\n",
       "  border: var(--sklearn-color-fitted-level-3);\n",
       "}\n",
       "\n",
       ".sk-estimator-doc-link:hover span {\n",
       "  display: block;\n",
       "}\n",
       "\n",
       "/* \"?\"-specific style due to the `<a>` HTML tag */\n",
       "\n",
       "#sk-container-id-5 a.estimator_doc_link {\n",
       "  float: right;\n",
       "  font-size: 1rem;\n",
       "  line-height: 1em;\n",
       "  font-family: monospace;\n",
       "  background-color: var(--sklearn-color-background);\n",
       "  border-radius: 1rem;\n",
       "  height: 1rem;\n",
       "  width: 1rem;\n",
       "  text-decoration: none;\n",
       "  /* unfitted */\n",
       "  color: var(--sklearn-color-unfitted-level-1);\n",
       "  border: var(--sklearn-color-unfitted-level-1) 1pt solid;\n",
       "}\n",
       "\n",
       "#sk-container-id-5 a.estimator_doc_link.fitted {\n",
       "  /* fitted */\n",
       "  border: var(--sklearn-color-fitted-level-1) 1pt solid;\n",
       "  color: var(--sklearn-color-fitted-level-1);\n",
       "}\n",
       "\n",
       "/* On hover */\n",
       "#sk-container-id-5 a.estimator_doc_link:hover {\n",
       "  /* unfitted */\n",
       "  background-color: var(--sklearn-color-unfitted-level-3);\n",
       "  color: var(--sklearn-color-background);\n",
       "  text-decoration: none;\n",
       "}\n",
       "\n",
       "#sk-container-id-5 a.estimator_doc_link.fitted:hover {\n",
       "  /* fitted */\n",
       "  background-color: var(--sklearn-color-fitted-level-3);\n",
       "}\n",
       "</style><div id=\"sk-container-id-5\" class=\"sk-top-container\"><div class=\"sk-text-repr-fallback\"><pre>SGDClassifier(eta0=0.001, learning_rate=&#x27;constant&#x27;, loss=&#x27;log_loss&#x27;,\n",
       "              max_iter=200, random_state=1, verbose=1)</pre><b>In a Jupyter environment, please rerun this cell to show the HTML representation or trust the notebook. <br />On GitHub, the HTML representation is unable to render, please try loading this page with nbviewer.org.</b></div><div class=\"sk-container\" hidden><div class=\"sk-item\"><div class=\"sk-estimator fitted sk-toggleable\"><input class=\"sk-toggleable__control sk-hidden--visually\" id=\"sk-estimator-id-5\" type=\"checkbox\" checked><label for=\"sk-estimator-id-5\" class=\"sk-toggleable__label fitted sk-toggleable__label-arrow fitted\">&nbsp;&nbsp;SGDClassifier<a class=\"sk-estimator-doc-link fitted\" rel=\"noreferrer\" target=\"_blank\" href=\"https://scikit-learn.org/1.5/modules/generated/sklearn.linear_model.SGDClassifier.html\">?<span>Documentation for SGDClassifier</span></a><span class=\"sk-estimator-doc-link fitted\">i<span>Fitted</span></span></label><div class=\"sk-toggleable__content fitted\"><pre>SGDClassifier(eta0=0.001, learning_rate=&#x27;constant&#x27;, loss=&#x27;log_loss&#x27;,\n",
       "              max_iter=200, random_state=1, verbose=1)</pre></div> </div></div></div></div>"
      ],
      "text/plain": [
       "SGDClassifier(eta0=0.001, learning_rate='constant', loss='log_loss',\n",
       "              max_iter=200, random_state=1, verbose=1)"
      ]
     },
     "execution_count": 113,
     "metadata": {},
     "output_type": "execute_result"
    }
   ],
   "source": [
    "# Write your code here\n",
    "model.fit(X_train, y_train)"
   ]
  },
  {
   "cell_type": "markdown",
   "metadata": {
    "id": "NnR7nA1S2SY3"
   },
   "source": [
    "<span style=\"color:red;\">**Question 4-1:** How many epochs did the model train before convergence?</span>"
   ]
  },
  {
   "cell_type": "markdown",
   "metadata": {},
   "source": [
    "<span style=\"color:yellow;\">**Answer 4-1:** 24 epochs the model train before convergence.</span>"
   ]
  },
  {
   "cell_type": "markdown",
   "metadata": {
    "id": "6YCMaq9W2SY5"
   },
   "source": [
    "<span style=\"color:red;\">**Question 4-2:** What is the average loss at the last epoch? Limit to 6 decimal places.</span>"
   ]
  },
  {
   "cell_type": "markdown",
   "metadata": {},
   "source": [
    "<span style=\"color:yellow;\">**Answer 4-2:** 0.035189 is the average loss at the last epoch.</span>"
   ]
  },
  {
   "cell_type": "markdown",
   "metadata": {
    "id": "LS25lTJT2SY7"
   },
   "source": [
    "## Try our trained model on the train data\n",
    "\n",
    "Now, let's get the prediction results on the train data to see if our model does well. Store the predicted labels in the variable `predictions`."
   ]
  },
  {
   "cell_type": "code",
   "execution_count": 114,
   "metadata": {
    "colab": {
     "base_uri": "https://localhost:8080/"
    },
    "executionInfo": {
     "elapsed": 61,
     "status": "ok",
     "timestamp": 1657871741436,
     "user": {
      "displayName": "Courtney Ngo",
      "userId": "01361140591205022195"
     },
     "user_tz": -480
    },
    "id": "30KKnOdJ2SY7",
    "outputId": "7facae1d-8a0f-42c2-e621-14ea72515a19"
   },
   "outputs": [],
   "source": [
    "# Write your code here\n",
    "predictions = model.predict(X_train)"
   ]
  },
  {
   "cell_type": "markdown",
   "metadata": {},
   "source": [
    "Print the predictions."
   ]
  },
  {
   "cell_type": "code",
   "execution_count": 115,
   "metadata": {},
   "outputs": [
    {
     "name": "stdout",
     "output_type": "stream",
     "text": [
      "[1 1 1 1 1 1 1 1 1 1 1 1 1 1 1 1 1 1 1 1 1 1 1 1 1 1 1 1 1 1 1 1 1 1 1 1 1\n",
      " 1 1 1 1 1 1 1 1 1 1 1 1 1 1 1 1 1 1 1 1 1 1 1 1 1 1 1 1 1 1 1 1 1 1 1 1 1\n",
      " 1 1 1 1 1 1 1 1 1 1 1 1 1 1 1 1 1 1 1 1 1 1 1 1 1 1 1 1 1 1 1 1 1 1 1 1 1\n",
      " 0 1 1 1 1 1 1 1 1 1 1 1 1 1 1 1 1 1 1 1 1 1 1 1 1 1 1 1 1 1 1 1 1 1 1 1 1\n",
      " 1 1 1 1 1 1 1 1 1 1 1 1 1 1 1 1 1 1 1 1 1 1 1 1 1 1 1 1 1 1 1 1 1 1 1 1 1\n",
      " 1 1 1 1 1 1 1 1 1 1 1 1 1 1 1 1 1 1 1 1 1 1 1 1 1 1 1 1 1 1 1 1 1 1 1 1 1\n",
      " 1 1 1 1 1 1 1 1 1 1 1 1 1 1 1 1 1 1 1 1 1 1 1 1 1 1 1 1 1 1 1 1 1 1 1 1 1\n",
      " 1 1 1 1 1 1 1 1 1 1 1 1 1 1 1 1 1 1 1 1 1 1 1 1 1 1 1 1 1 1 1 1 1 1 1 1 1\n",
      " 1 1 1 1 1 1 1 1 1 1 1 1 1 1 1 1 1 1 1 1 1 1 1 1 1 1 1 1 1 1 1 1 1 1 1 1 1\n",
      " 1 1 1 1 1 1 1 1 1 1 1 1 1 1 1 1 1 1 1 1 1 1 1 1 1 1 1 1 1 1 1 0 1 1 1 1 1\n",
      " 1 1 1 1 1 1 1 1 1 1 1 1 1 1 1 1 1 1 1 1 1 1 1 1 1 1 1 1 1 1 1 1 1 1 1 1 1\n",
      " 1 1 1 1 1 1 1 1 1 1 1 1 1 1 1 1 1 1 1 1 1 1 1 1 1 1 1 1 1 1 1 1 1 1 1 1 1\n",
      " 1 1 1 1 1 1 1 1 1 1 1 1 1 1 1 1 1 1 1 1 1 1 1 1 1 1 1 1 1 1 1 1 1 1 1 1 1\n",
      " 1 1 1 1 1 1 1 1 1 1 1 1 1 1 1 1 1 1 1 0 0 0 0 0 0 0 0 0 0 0 0 0 0 0 0 0 0\n",
      " 0 0 0 0 0 0 0 0 0 0 0 0 0 0 0 0 0 0 0 0 0 0 0 0 0 0 0 0 0 0 0 0 0 0 0 0 0\n",
      " 0 0 0 0 0 0 0 0 0 0 0 0 0 0 0 0 0 0 0 0 0 0 0 0 0 0 0 0 0 0 0 0 0 0 0 0 0\n",
      " 0 0 0 0 0 0 0 0 0 0 0 0 0 0 0 0 0 0 0 0 0 0 0 0 0 0 0 0 0 0 0 0 0 0 0 0 0\n",
      " 0 0 0 0 0 0 0 0 0 0 0 0 0 0 0 0 0 0 0 0 0 0 0 0 0 0 0 0 0 0 0 0 0 0 0 0 0\n",
      " 0 0 0 0 0 0 0 0 0 0 0 0 0 0 0 0 0 0 0 0 0 0 0 0 0 0 0 0 0 0 0 0 0 0 0 0 0\n",
      " 0 0 0 0 0 0 0 0 0 0 0 0 0 0 0 0 0 0 0 0 0 0 0 0 0 0 0 0 0 0 0 0 0 0 0 0 0\n",
      " 0 0 0 0 1 0 0 0 0 0 0 0 0 0 0 0 0 0 0 0 0 0 0 0 0 0 0 0 0 0 0 0 0 0 0 0 0\n",
      " 0 0 0 0 0 0 0 0 0 0 0 0 0 0 0 0 0 0 0 0 0 0 0 0 0 0 0 0 0 0 0 0 0 0 0 0 0\n",
      " 0 0 0 0 0 0 0 0 0 0 0 0 0 0 0 0 0 0 0 0 0 0 0 0 0 0 0 0 0 0 0 0 0 0 0 0 0\n",
      " 0 0 0 0 0 0 0 0 0 0 0 0 0 0 0 0 0 0 0 0 0 0 0 0 0 0 0 0 0 0 0 0 0 0 0 0 0\n",
      " 0 0 0 0 0 0 0 0 0 0 0 0 0 0 0 0 0 0 0 0 0 0 0 0 0 0 0 0 0 0 0 0 0 0 0 0 0\n",
      " 0 0 0 0 0 0 0 0 0 0 0 0 0 0 0 0 1 0 0 0 0 0 0 0 0 0 0 0 0 0 0 0 0 0 0 0 0\n",
      " 0 0 0 0 0 0 0 0 0 0 0 0 0 0 0 0 0 0 0 0 0 0 0 0 0 0 0 0 0 0 0 0 0 0 0 0 0\n",
      " 0]\n"
     ]
    }
   ],
   "source": [
    "print(predictions)"
   ]
  },
  {
   "cell_type": "markdown",
   "metadata": {
    "id": "xOuktQyM2SY7"
   },
   "source": [
    "Compare the ground truth labels with the predicted labels. Store the total number of correct predictions in the variable `num_correct`."
   ]
  },
  {
   "cell_type": "code",
   "execution_count": 116,
   "metadata": {
    "colab": {
     "base_uri": "https://localhost:8080/"
    },
    "executionInfo": {
     "elapsed": 57,
     "status": "ok",
     "timestamp": 1657871741437,
     "user": {
      "displayName": "Courtney Ngo",
      "userId": "01361140591205022195"
     },
     "user_tz": -480
    },
    "id": "mJjMIBIh2SY8",
    "outputId": "4bb9cea6-baea-4e4e-ff3b-238e0b210e90"
   },
   "outputs": [],
   "source": [
    "# Write your code here\n",
    "num_correct = sum(predictions == y_train)"
   ]
  },
  {
   "cell_type": "markdown",
   "metadata": {},
   "source": [
    "Print the number of correct predictions."
   ]
  },
  {
   "cell_type": "code",
   "execution_count": 117,
   "metadata": {},
   "outputs": [
    {
     "name": "stdout",
     "output_type": "stream",
     "text": [
      "996\n"
     ]
    }
   ],
   "source": [
    "print(num_correct)"
   ]
  },
  {
   "cell_type": "markdown",
   "metadata": {
    "id": "FDcL98RK2SY9"
   },
   "source": [
    "Compute for the accuracy.\n",
    "\n",
    "$$ \\text{accuracy} = \\frac{\\text{number  of  correct  answers}}{\\text{total  number  of   data}} $$\n",
    "\n",
    "Store the accuracy in the variable `accuracy`."
   ]
  },
  {
   "cell_type": "code",
   "execution_count": 118,
   "metadata": {
    "colab": {
     "base_uri": "https://localhost:8080/"
    },
    "executionInfo": {
     "elapsed": 52,
     "status": "ok",
     "timestamp": 1657871741437,
     "user": {
      "displayName": "Courtney Ngo",
      "userId": "01361140591205022195"
     },
     "user_tz": -480
    },
    "id": "DbNJwSqo2SY_",
    "outputId": "cd5f4088-6dd5-4965-d187-e138f6ed092f"
   },
   "outputs": [],
   "source": [
    "# Write your code here\n",
    "accuracy = num_correct / len(y_train)"
   ]
  },
  {
   "cell_type": "markdown",
   "metadata": {},
   "source": [
    "Print the accuracy."
   ]
  },
  {
   "cell_type": "code",
   "execution_count": 119,
   "metadata": {},
   "outputs": [
    {
     "name": "stdout",
     "output_type": "stream",
     "text": [
      "0.996\n"
     ]
    }
   ],
   "source": [
    "print(accuracy)"
   ]
  },
  {
   "cell_type": "markdown",
   "metadata": {
    "id": "wb4rPQvS2SZA"
   },
   "source": [
    "<span style=\"color:red;\">**Question 4-3:** What is the accuracy of the model when evaluated on the train set? Express your answer in a floating point number from 0 to 1. Limit to 4 decimal places.</span>"
   ]
  },
  {
   "cell_type": "markdown",
   "metadata": {},
   "source": [
    "<span style=\"color:yellow;\">**Answer 4-3:** 0.996 is the accuracy of the model when evaluated on the train set.</span>"
   ]
  },
  {
   "cell_type": "markdown",
   "metadata": {
    "id": "kQ9kcUJI2SZA"
   },
   "source": [
    "You should see a high train accuracy for the training data."
   ]
  },
  {
   "cell_type": "markdown",
   "metadata": {
    "id": "1SzQ6l1w2SZB"
   },
   "source": [
    "## Visualizing our model prediction boundaries\n",
    "\n",
    "To see the prediction boundary, we will predict each possible point on our feature space."
   ]
  },
  {
   "cell_type": "code",
   "execution_count": 120,
   "metadata": {
    "colab": {
     "base_uri": "https://localhost:8080/",
     "height": 283
    },
    "executionInfo": {
     "elapsed": 48,
     "status": "ok",
     "timestamp": 1657871741438,
     "user": {
      "displayName": "Courtney Ngo",
      "userId": "01361140591205022195"
     },
     "user_tz": -480
    },
    "id": "rRMYvMpb2SZB",
    "outputId": "e19164b3-1c00-4996-e1be-498eef7c2446"
   },
   "outputs": [
    {
     "data": {
      "text/plain": [
       "<matplotlib.collections.PathCollection at 0x16a32f08dd0>"
      ]
     },
     "execution_count": 120,
     "metadata": {},
     "output_type": "execute_result"
    },
    {
     "data": {
      "image/png": "[encoded data removed]",
      "text/plain": [
       "<Figure size 640x480 with 1 Axes>"
      ]
     },
     "metadata": {},
     "output_type": "display_data"
    }
   ],
   "source": [
    "x_min, x_max = X_train[:,0].min() - 1, X_train[:,0].max() + 1\n",
    "y_min, y_max = X_train[:,1].min() - 1, X_train[:,1].max() + 1\n",
    "xx, yy = np.meshgrid(np.arange(x_min, x_max, 0.1),\n",
    "                     np.arange(y_min, y_max, 0.1))\n",
    "\n",
    "\n",
    "x_test = np.squeeze(np.stack((xx.ravel(),yy.ravel()))).T\n",
    "Z = model.predict(x_test)\n",
    "\n",
    "Z = Z.reshape(xx.shape)\n",
    "plt.contourf(xx, yy, Z)\n",
    "plt.scatter(X_train[:, 0], X_train[:, 1], c=y_train, edgecolors='black')"
   ]
  },
  {
   "cell_type": "markdown",
   "metadata": {
    "id": "EB54PSku2SZB"
   },
   "source": [
    "Now, let's see if our model can handle our test data."
   ]
  },
  {
   "cell_type": "markdown",
   "metadata": {
    "id": "2Qk3i3rY2SZD"
   },
   "source": [
    "## Try our trained model on the test data\n",
    "\n",
    "Now, let's get the prediction results on the test data to see if our model can handle unseen data. Store the predicted labels in the variable `predictions`."
   ]
  },
  {
   "cell_type": "code",
   "execution_count": 121,
   "metadata": {
    "colab": {
     "base_uri": "https://localhost:8080/"
    },
    "executionInfo": {
     "elapsed": 41,
     "status": "ok",
     "timestamp": 1657871741438,
     "user": {
      "displayName": "Courtney Ngo",
      "userId": "01361140591205022195"
     },
     "user_tz": -480
    },
    "id": "L1b9RIaN2SZD",
    "outputId": "8cdd3782-ece4-4e10-b09d-124c9da1e345"
   },
   "outputs": [],
   "source": [
    "# Write your code here\n",
    "predictions = model.predict(X_test)"
   ]
  },
  {
   "cell_type": "markdown",
   "metadata": {},
   "source": [
    "Print the predictions."
   ]
  },
  {
   "cell_type": "code",
   "execution_count": 122,
   "metadata": {},
   "outputs": [
    {
     "name": "stdout",
     "output_type": "stream",
     "text": [
      "[1 1 1 1 1 0 1 1 1 1 1 1 1 1 1 1 1 1 1 1 1 1 1 1 1 1 1 1 1 1 1 1 1 1 1 1 1\n",
      " 1 1 1 1 1 1 1 1 1 0 1 1 1 0 0 0 0 0 0 0 0 0 0 0 0 0 0 0 0 0 0 0 0 0 0 0 0\n",
      " 0 0 0 0 0 0 0 0 0 0 0 0 0 0 0 0 0 0 0 0 0 0 0 0 0 0]\n"
     ]
    }
   ],
   "source": [
    "print(predictions)"
   ]
  },
  {
   "cell_type": "markdown",
   "metadata": {
    "id": "7_uX_McX2SZD"
   },
   "source": [
    "Compare the ground truth labels with the predicted labels. Store the total number of correct predictions in the variable `num_correct`."
   ]
  },
  {
   "cell_type": "code",
   "execution_count": 123,
   "metadata": {
    "colab": {
     "base_uri": "https://localhost:8080/"
    },
    "executionInfo": {
     "elapsed": 38,
     "status": "ok",
     "timestamp": 1657871741439,
     "user": {
      "displayName": "Courtney Ngo",
      "userId": "01361140591205022195"
     },
     "user_tz": -480
    },
    "id": "LzIH__9K2SZE",
    "outputId": "9a527856-9950-4315-cb92-af9df6f444e1",
    "scrolled": true
   },
   "outputs": [],
   "source": [
    "# Write your code here\n",
    "num_correct = sum(predictions == y_test)"
   ]
  },
  {
   "cell_type": "markdown",
   "metadata": {},
   "source": [
    "Print the number of correct predictions."
   ]
  },
  {
   "cell_type": "code",
   "execution_count": 124,
   "metadata": {},
   "outputs": [
    {
     "name": "stdout",
     "output_type": "stream",
     "text": [
      "98\n"
     ]
    }
   ],
   "source": [
    "print(num_correct)"
   ]
  },
  {
   "cell_type": "markdown",
   "metadata": {
    "id": "gInipBOI2SZG"
   },
   "source": [
    "Compute for the accuracy. Store the accuracy in the variable `accuracy`."
   ]
  },
  {
   "cell_type": "code",
   "execution_count": 125,
   "metadata": {
    "colab": {
     "base_uri": "https://localhost:8080/"
    },
    "executionInfo": {
     "elapsed": 33,
     "status": "ok",
     "timestamp": 1657871741439,
     "user": {
      "displayName": "Courtney Ngo",
      "userId": "01361140591205022195"
     },
     "user_tz": -480
    },
    "id": "j9jFlJro2SZG",
    "outputId": "945fa5f4-3ff1-499e-91f1-c1e4c7573035"
   },
   "outputs": [],
   "source": [
    "# Write your code here\n",
    "accuracy = num_correct / len(y_test)"
   ]
  },
  {
   "cell_type": "markdown",
   "metadata": {},
   "source": [
    "Print the accuracy."
   ]
  },
  {
   "cell_type": "code",
   "execution_count": 126,
   "metadata": {},
   "outputs": [
    {
     "name": "stdout",
     "output_type": "stream",
     "text": [
      "0.98\n"
     ]
    }
   ],
   "source": [
    "print(accuracy)"
   ]
  },
  {
   "cell_type": "markdown",
   "metadata": {
    "id": "Is52sEDS2SZH"
   },
   "source": [
    "<span style=\"color:red;\">**Question 4-4:** What is the accuracy of the model when evaluated on the test set? Express your answer in a floating point number from 0 to 1. Limit to 4 decimal places.</span>"
   ]
  },
  {
   "cell_type": "markdown",
   "metadata": {},
   "source": [
    "<span style=\"color:yellow;\">**Answer 4-4:** 0.98</span>"
   ]
  },
  {
   "cell_type": "markdown",
   "metadata": {
    "id": "rNmVKdgV2SZI"
   },
   "source": [
    "You should see  high score for our test data."
   ]
  },
  {
   "cell_type": "markdown",
   "metadata": {
    "id": "L4HPmHv82SZI"
   },
   "source": [
    "## Cat Dataset\n",
    "\n",
    "Now, let's try to make a model on a harder and more complex dataset: the cat image dataset from the previous notebook."
   ]
  },
  {
   "cell_type": "markdown",
   "metadata": {
    "id": "Hj3JKBMZ2SZJ"
   },
   "source": [
    "## Load data\n",
    "\n",
    "Load the `cat_dataset.hdf5` file that you created from the previous notebook."
   ]
  },
  {
   "cell_type": "code",
   "execution_count": 127,
   "metadata": {
    "colab": {
     "base_uri": "https://localhost:8080/",
     "height": 561
    },
    "executionInfo": {
     "elapsed": 819,
     "status": "error",
     "timestamp": 1657871742230,
     "user": {
      "displayName": "Courtney Ngo",
      "userId": "01361140591205022195"
     },
     "user_tz": -480
    },
    "id": "midRC0Rx2SZJ",
    "outputId": "af606db0-fdb1-4d39-8cce-1d83e98f3ebb"
   },
   "outputs": [
    {
     "name": "stdout",
     "output_type": "stream",
     "text": [
      "test_x\n",
      "test_y\n",
      "train_x\n",
      "train_y\n"
     ]
    }
   ],
   "source": [
    "# Write your code here\n",
    "file_name = 'cat_dataset.hdf5'\n",
    "read_hdf5 = h5py.File(file_name, 'r')\n",
    "\n",
    "for key in read_hdf5.keys():\n",
    "    print(key)  # Names of the groups in HDF5 file."
   ]
  },
  {
   "cell_type": "markdown",
   "metadata": {
    "id": "LILC3wmZ2SZK"
   },
   "source": [
    "Get the training images and labels using the keys `train_x` and `train_y`, and store them in the variables `train_images` and `y_train`, respectively."
   ]
  },
  {
   "cell_type": "code",
   "execution_count": 128,
   "metadata": {
    "executionInfo": {
     "elapsed": 28,
     "status": "aborted",
     "timestamp": 1657871742218,
     "user": {
      "displayName": "Courtney Ngo",
      "userId": "01361140591205022195"
     },
     "user_tz": -480
    },
    "id": "MM7Ezf4_2SZK"
   },
   "outputs": [],
   "source": [
    "# Write your code here\n",
    "train_images = read_hdf5['train_x']\n",
    "y_train = read_hdf5['train_y']"
   ]
  },
  {
   "cell_type": "markdown",
   "metadata": {
    "id": "8MsOlqv42SZK"
   },
   "source": [
    "Get the test images and labels using the keys `test_x` and `test_y`, and store them in the variables `test_images` and `y_test`, respectively."
   ]
  },
  {
   "cell_type": "code",
   "execution_count": 129,
   "metadata": {
    "executionInfo": {
     "elapsed": 28,
     "status": "aborted",
     "timestamp": 1657871742219,
     "user": {
      "displayName": "Courtney Ngo",
      "userId": "01361140591205022195"
     },
     "user_tz": -480
    },
    "id": "ZmWAz6MZ2SZL"
   },
   "outputs": [],
   "source": [
    "# Write your code here\n",
    "test_images = read_hdf5['test_x']\n",
    "y_test = read_hdf5['test_y']"
   ]
  },
  {
   "cell_type": "markdown",
   "metadata": {
    "id": "Z_KCyfMG2SZT"
   },
   "source": [
    "Remove the unnecessary axis in the label `np.ndarray` using `np.squeeze()` function. Print the shapes of the images and labels."
   ]
  },
  {
   "cell_type": "code",
   "execution_count": 130,
   "metadata": {
    "executionInfo": {
     "elapsed": 28,
     "status": "aborted",
     "timestamp": 1657871742219,
     "user": {
      "displayName": "Courtney Ngo",
      "userId": "01361140591205022195"
     },
     "user_tz": -480
    },
    "id": "XdTSwNhS2SZX"
   },
   "outputs": [
    {
     "name": "stdout",
     "output_type": "stream",
     "text": [
      "Train images shape = (209, 64, 64, 3)\n",
      "Train labels shape = (209,)\n",
      "Test images shape = (50, 64, 64, 3)\n",
      "Test labels shape = (50,)\n"
     ]
    }
   ],
   "source": [
    "num_train, H, W, C = train_images.shape\n",
    "num_test, _, _, _ = test_images.shape\n",
    "\n",
    "y_train = np.squeeze(y_train)\n",
    "y_test = np.squeeze(y_test)\n",
    "\n",
    "print('Train images shape =', train_images.shape)\n",
    "print('Train labels shape =', y_train.shape)\n",
    "print('Test images shape =', test_images.shape)\n",
    "print('Test labels shape =', y_test.shape)"
   ]
  },
  {
   "cell_type": "markdown",
   "metadata": {
    "id": "S6V8lhc92SZe"
   },
   "source": [
    "Reshape the images. Keep the `N` axis only and combine `H`, `W` and `C` axes into one axis."
   ]
  },
  {
   "cell_type": "code",
   "execution_count": 131,
   "metadata": {
    "executionInfo": {
     "elapsed": 27,
     "status": "aborted",
     "timestamp": 1657871742219,
     "user": {
      "displayName": "Courtney Ngo",
      "userId": "01361140591205022195"
     },
     "user_tz": -480
    },
    "id": "SnvdUd-P2SZf",
    "scrolled": true
   },
   "outputs": [
    {
     "name": "stdout",
     "output_type": "stream",
     "text": [
      "X_train shape = (209, 12288)\n",
      "Train labels shape = (209,)\n",
      "X_test shape = (50, 12288)\n",
      "Test labels shape = (50,)\n"
     ]
    }
   ],
   "source": [
    "X_train = np.reshape(train_images, [num_train, -1])\n",
    "X_test = np.reshape(test_images, [num_test, -1])\n",
    "\n",
    "print('X_train shape =', X_train.shape)\n",
    "print('Train labels shape =', y_train.shape)\n",
    "print('X_test shape =', X_test.shape)\n",
    "print('Test labels shape =', y_test.shape)"
   ]
  },
  {
   "cell_type": "markdown",
   "metadata": {
    "id": "CzrUFBPA2SZp"
   },
   "source": [
    "## Visualize images\n",
    "\n",
    "Display random images in the training data"
   ]
  },
  {
   "cell_type": "code",
   "execution_count": 132,
   "metadata": {
    "executionInfo": {
     "elapsed": 28,
     "status": "aborted",
     "timestamp": 1657871742220,
     "user": {
      "displayName": "Courtney Ngo",
      "userId": "01361140591205022195"
     },
     "user_tz": -480
    },
    "id": "12zCe6Zv2SZq",
    "scrolled": false
   },
   "outputs": [
    {
     "data": {
      "image/png": "[encoded data removed]",
      "text/plain": [
       "<Figure size 800x600 with 9 Axes>"
      ]
     },
     "metadata": {},
     "output_type": "display_data"
    }
   ],
   "source": [
    "random_index = np.arange(num_train)\n",
    "np.random.shuffle(random_index)\n",
    "plt.figure(figsize=(8, 6))\n",
    "for i in range(9):\n",
    "    plt.subplot(3, 3, i + 1)\n",
    "    plt.imshow(train_images[random_index[i]])\n",
    "    plt.axis('off')\n",
    "    plt.title('Idx = ' + str(random_index[i]) + ', y = ' + str(np.squeeze(y_train[random_index[i]])))"
   ]
  },
  {
   "cell_type": "markdown",
   "metadata": {
    "id": "xzUP9NYz2SZr"
   },
   "source": [
    "Here are the photos, where a `y=1` means it is a cat, and `y=0` means it is not a cat. You should see 9 photos in a 3x3 grid. Each photo has a caption above it displaying the photo's index and classification (`y=0` or `y=1`)."
   ]
  },
  {
   "cell_type": "markdown",
   "metadata": {
    "id": "1Zg5w31w2SZr"
   },
   "source": [
    "## Binomial Logistic Regression on the Cat Dataset\n",
    "\n",
    "Use `sklearn`'s `SGDClassifier` to create your logistic regression model. Since we only have two classes (`Cat` or `Not Cat`), we will be implementing a binomial logistic regression."
   ]
  },
  {
   "cell_type": "markdown",
   "metadata": {
    "id": "hlUqCrpk2SZs"
   },
   "source": [
    "Instantiate an `SGDClassifier` object. Set the following hyperparameters:\n",
    "- Loss function: 'log_loss'\n",
    "- Initial learning rate: 0.001\n",
    "- Maximum iterations: 200\n",
    "- Learning rate: 'constant'\n",
    "- Random state: 1\n",
    "- Verbose: 1\n",
    "\n",
    "See the documentation [here](https://scikit-learn.org/stable/modules/generated/sklearn.linear_model.SGDClassifier.html)."
   ]
  },
  {
   "cell_type": "code",
   "execution_count": 133,
   "metadata": {
    "executionInfo": {
     "elapsed": 29,
     "status": "aborted",
     "timestamp": 1657871742221,
     "user": {
      "displayName": "Courtney Ngo",
      "userId": "01361140591205022195"
     },
     "user_tz": -480
    },
    "id": "uQAnHG1e2SZs"
   },
   "outputs": [],
   "source": [
    "# Write your code here\n",
    "model = SGDClassifier(loss='log_loss', eta0=0.001, max_iter=200, learning_rate='constant', random_state=1, verbose=1)"
   ]
  },
  {
   "cell_type": "markdown",
   "metadata": {
    "id": "gV0x14JR2SZt"
   },
   "source": [
    "Train the model."
   ]
  },
  {
   "cell_type": "code",
   "execution_count": 134,
   "metadata": {
    "executionInfo": {
     "elapsed": 30,
     "status": "aborted",
     "timestamp": 1657871742222,
     "user": {
      "displayName": "Courtney Ngo",
      "userId": "01361140591205022195"
     },
     "user_tz": -480
    },
    "id": "5_5KTYMb2SZv"
   },
   "outputs": [
    {
     "ename": "ValueError",
     "evalue": "The number of classes has to be greater than one; got 1 class",
     "output_type": "error",
     "traceback": [
      "\u001b[1;31m---------------------------------------------------------------------------\u001b[0m",
      "\u001b[1;31mValueError\u001b[0m                                Traceback (most recent call last)",
      "Cell \u001b[1;32mIn[134], line 2\u001b[0m\n\u001b[0;32m      1\u001b[0m \u001b[38;5;66;03m# Write your code here\u001b[39;00m\n\u001b[1;32m----> 2\u001b[0m \u001b[43mmodel\u001b[49m\u001b[38;5;241;43m.\u001b[39;49m\u001b[43mfit\u001b[49m\u001b[43m(\u001b[49m\u001b[43mX_train\u001b[49m\u001b[43m,\u001b[49m\u001b[43m \u001b[49m\u001b[43my_train\u001b[49m\u001b[43m)\u001b[49m\n",
      "File \u001b[1;32m~\\AppData\\Roaming\\Python\\Python312\\site-packages\\sklearn\\base.py:1473\u001b[0m, in \u001b[0;36m_fit_context.<locals>.decorator.<locals>.wrapper\u001b[1;34m(estimator, *args, **kwargs)\u001b[0m\n\u001b[0;32m   1466\u001b[0m     estimator\u001b[38;5;241m.\u001b[39m_validate_params()\n\u001b[0;32m   1468\u001b[0m \u001b[38;5;28;01mwith\u001b[39;00m config_context(\n\u001b[0;32m   1469\u001b[0m     skip_parameter_validation\u001b[38;5;241m=\u001b[39m(\n\u001b[0;32m   1470\u001b[0m         prefer_skip_nested_validation \u001b[38;5;129;01mor\u001b[39;00m global_skip_validation\n\u001b[0;32m   1471\u001b[0m     )\n\u001b[0;32m   1472\u001b[0m ):\n\u001b[1;32m-> 1473\u001b[0m     \u001b[38;5;28;01mreturn\u001b[39;00m \u001b[43mfit_method\u001b[49m\u001b[43m(\u001b[49m\u001b[43mestimator\u001b[49m\u001b[43m,\u001b[49m\u001b[43m \u001b[49m\u001b[38;5;241;43m*\u001b[39;49m\u001b[43margs\u001b[49m\u001b[43m,\u001b[49m\u001b[43m \u001b[49m\u001b[38;5;241;43m*\u001b[39;49m\u001b[38;5;241;43m*\u001b[39;49m\u001b[43mkwargs\u001b[49m\u001b[43m)\u001b[49m\n",
      "File \u001b[1;32m~\\AppData\\Roaming\\Python\\Python312\\site-packages\\sklearn\\linear_model\\_stochastic_gradient.py:938\u001b[0m, in \u001b[0;36mBaseSGDClassifier.fit\u001b[1;34m(self, X, y, coef_init, intercept_init, sample_weight)\u001b[0m\n\u001b[0;32m    909\u001b[0m \u001b[38;5;250m\u001b[39m\u001b[38;5;124;03m\"\"\"Fit linear model with Stochastic Gradient Descent.\u001b[39;00m\n\u001b[0;32m    910\u001b[0m \n\u001b[0;32m    911\u001b[0m \u001b[38;5;124;03mParameters\u001b[39;00m\n\u001b[1;32m   (...)\u001b[0m\n\u001b[0;32m    934\u001b[0m \u001b[38;5;124;03m    Returns an instance of self.\u001b[39;00m\n\u001b[0;32m    935\u001b[0m \u001b[38;5;124;03m\"\"\"\u001b[39;00m\n\u001b[0;32m    936\u001b[0m \u001b[38;5;28mself\u001b[39m\u001b[38;5;241m.\u001b[39m_more_validate_params()\n\u001b[1;32m--> 938\u001b[0m \u001b[38;5;28;01mreturn\u001b[39;00m \u001b[38;5;28;43mself\u001b[39;49m\u001b[38;5;241;43m.\u001b[39;49m\u001b[43m_fit\u001b[49m\u001b[43m(\u001b[49m\n\u001b[0;32m    939\u001b[0m \u001b[43m    \u001b[49m\u001b[43mX\u001b[49m\u001b[43m,\u001b[49m\n\u001b[0;32m    940\u001b[0m \u001b[43m    \u001b[49m\u001b[43my\u001b[49m\u001b[43m,\u001b[49m\n\u001b[0;32m    941\u001b[0m \u001b[43m    \u001b[49m\u001b[43malpha\u001b[49m\u001b[38;5;241;43m=\u001b[39;49m\u001b[38;5;28;43mself\u001b[39;49m\u001b[38;5;241;43m.\u001b[39;49m\u001b[43malpha\u001b[49m\u001b[43m,\u001b[49m\n\u001b[0;32m    942\u001b[0m \u001b[43m    \u001b[49m\u001b[43mC\u001b[49m\u001b[38;5;241;43m=\u001b[39;49m\u001b[38;5;241;43m1.0\u001b[39;49m\u001b[43m,\u001b[49m\n\u001b[0;32m    943\u001b[0m \u001b[43m    \u001b[49m\u001b[43mloss\u001b[49m\u001b[38;5;241;43m=\u001b[39;49m\u001b[38;5;28;43mself\u001b[39;49m\u001b[38;5;241;43m.\u001b[39;49m\u001b[43mloss\u001b[49m\u001b[43m,\u001b[49m\n\u001b[0;32m    944\u001b[0m \u001b[43m    \u001b[49m\u001b[43mlearning_rate\u001b[49m\u001b[38;5;241;43m=\u001b[39;49m\u001b[38;5;28;43mself\u001b[39;49m\u001b[38;5;241;43m.\u001b[39;49m\u001b[43mlearning_rate\u001b[49m\u001b[43m,\u001b[49m\n\u001b[0;32m    945\u001b[0m \u001b[43m    \u001b[49m\u001b[43mcoef_init\u001b[49m\u001b[38;5;241;43m=\u001b[39;49m\u001b[43mcoef_init\u001b[49m\u001b[43m,\u001b[49m\n\u001b[0;32m    946\u001b[0m \u001b[43m    \u001b[49m\u001b[43mintercept_init\u001b[49m\u001b[38;5;241;43m=\u001b[39;49m\u001b[43mintercept_init\u001b[49m\u001b[43m,\u001b[49m\n\u001b[0;32m    947\u001b[0m \u001b[43m    \u001b[49m\u001b[43msample_weight\u001b[49m\u001b[38;5;241;43m=\u001b[39;49m\u001b[43msample_weight\u001b[49m\u001b[43m,\u001b[49m\n\u001b[0;32m    948\u001b[0m \u001b[43m\u001b[49m\u001b[43m)\u001b[49m\n",
      "File \u001b[1;32m~\\AppData\\Roaming\\Python\\Python312\\site-packages\\sklearn\\linear_model\\_stochastic_gradient.py:725\u001b[0m, in \u001b[0;36mBaseSGDClassifier._fit\u001b[1;34m(self, X, y, alpha, C, loss, learning_rate, coef_init, intercept_init, sample_weight)\u001b[0m\n\u001b[0;32m    722\u001b[0m \u001b[38;5;66;03m# Clear iteration count for multiple call to fit.\u001b[39;00m\n\u001b[0;32m    723\u001b[0m \u001b[38;5;28mself\u001b[39m\u001b[38;5;241m.\u001b[39mt_ \u001b[38;5;241m=\u001b[39m \u001b[38;5;241m1.0\u001b[39m\n\u001b[1;32m--> 725\u001b[0m \u001b[38;5;28;43mself\u001b[39;49m\u001b[38;5;241;43m.\u001b[39;49m\u001b[43m_partial_fit\u001b[49m\u001b[43m(\u001b[49m\n\u001b[0;32m    726\u001b[0m \u001b[43m    \u001b[49m\u001b[43mX\u001b[49m\u001b[43m,\u001b[49m\n\u001b[0;32m    727\u001b[0m \u001b[43m    \u001b[49m\u001b[43my\u001b[49m\u001b[43m,\u001b[49m\n\u001b[0;32m    728\u001b[0m \u001b[43m    \u001b[49m\u001b[43malpha\u001b[49m\u001b[43m,\u001b[49m\n\u001b[0;32m    729\u001b[0m \u001b[43m    \u001b[49m\u001b[43mC\u001b[49m\u001b[43m,\u001b[49m\n\u001b[0;32m    730\u001b[0m \u001b[43m    \u001b[49m\u001b[43mloss\u001b[49m\u001b[43m,\u001b[49m\n\u001b[0;32m    731\u001b[0m \u001b[43m    \u001b[49m\u001b[43mlearning_rate\u001b[49m\u001b[43m,\u001b[49m\n\u001b[0;32m    732\u001b[0m \u001b[43m    \u001b[49m\u001b[38;5;28;43mself\u001b[39;49m\u001b[38;5;241;43m.\u001b[39;49m\u001b[43mmax_iter\u001b[49m\u001b[43m,\u001b[49m\n\u001b[0;32m    733\u001b[0m \u001b[43m    \u001b[49m\u001b[43mclasses\u001b[49m\u001b[43m,\u001b[49m\n\u001b[0;32m    734\u001b[0m \u001b[43m    \u001b[49m\u001b[43msample_weight\u001b[49m\u001b[43m,\u001b[49m\n\u001b[0;32m    735\u001b[0m \u001b[43m    \u001b[49m\u001b[43mcoef_init\u001b[49m\u001b[43m,\u001b[49m\n\u001b[0;32m    736\u001b[0m \u001b[43m    \u001b[49m\u001b[43mintercept_init\u001b[49m\u001b[43m,\u001b[49m\n\u001b[0;32m    737\u001b[0m \u001b[43m\u001b[49m\u001b[43m)\u001b[49m\n\u001b[0;32m    739\u001b[0m \u001b[38;5;28;01mif\u001b[39;00m (\n\u001b[0;32m    740\u001b[0m     \u001b[38;5;28mself\u001b[39m\u001b[38;5;241m.\u001b[39mtol \u001b[38;5;129;01mis\u001b[39;00m \u001b[38;5;129;01mnot\u001b[39;00m \u001b[38;5;28;01mNone\u001b[39;00m\n\u001b[0;32m    741\u001b[0m     \u001b[38;5;129;01mand\u001b[39;00m \u001b[38;5;28mself\u001b[39m\u001b[38;5;241m.\u001b[39mtol \u001b[38;5;241m>\u001b[39m \u001b[38;5;241m-\u001b[39mnp\u001b[38;5;241m.\u001b[39minf\n\u001b[0;32m    742\u001b[0m     \u001b[38;5;129;01mand\u001b[39;00m \u001b[38;5;28mself\u001b[39m\u001b[38;5;241m.\u001b[39mn_iter_ \u001b[38;5;241m==\u001b[39m \u001b[38;5;28mself\u001b[39m\u001b[38;5;241m.\u001b[39mmax_iter\n\u001b[0;32m    743\u001b[0m ):\n\u001b[0;32m    744\u001b[0m     warnings\u001b[38;5;241m.\u001b[39mwarn(\n\u001b[0;32m    745\u001b[0m         (\n\u001b[0;32m    746\u001b[0m             \u001b[38;5;124m\"\u001b[39m\u001b[38;5;124mMaximum number of iteration reached before \u001b[39m\u001b[38;5;124m\"\u001b[39m\n\u001b[1;32m   (...)\u001b[0m\n\u001b[0;32m    750\u001b[0m         ConvergenceWarning,\n\u001b[0;32m    751\u001b[0m     )\n",
      "File \u001b[1;32m~\\AppData\\Roaming\\Python\\Python312\\site-packages\\sklearn\\linear_model\\_stochastic_gradient.py:669\u001b[0m, in \u001b[0;36mBaseSGDClassifier._partial_fit\u001b[1;34m(self, X, y, alpha, C, loss, learning_rate, max_iter, classes, sample_weight, coef_init, intercept_init)\u001b[0m\n\u001b[0;32m    659\u001b[0m     \u001b[38;5;28mself\u001b[39m\u001b[38;5;241m.\u001b[39m_fit_binary(\n\u001b[0;32m    660\u001b[0m         X,\n\u001b[0;32m    661\u001b[0m         y,\n\u001b[1;32m   (...)\u001b[0m\n\u001b[0;32m    666\u001b[0m         max_iter\u001b[38;5;241m=\u001b[39mmax_iter,\n\u001b[0;32m    667\u001b[0m     )\n\u001b[0;32m    668\u001b[0m \u001b[38;5;28;01melse\u001b[39;00m:\n\u001b[1;32m--> 669\u001b[0m     \u001b[38;5;28;01mraise\u001b[39;00m \u001b[38;5;167;01mValueError\u001b[39;00m(\n\u001b[0;32m    670\u001b[0m         \u001b[38;5;124m\"\u001b[39m\u001b[38;5;124mThe number of classes has to be greater than one; got \u001b[39m\u001b[38;5;132;01m%d\u001b[39;00m\u001b[38;5;124m class\u001b[39m\u001b[38;5;124m\"\u001b[39m\n\u001b[0;32m    671\u001b[0m         \u001b[38;5;241m%\u001b[39m n_classes\n\u001b[0;32m    672\u001b[0m     )\n\u001b[0;32m    674\u001b[0m \u001b[38;5;28;01mreturn\u001b[39;00m \u001b[38;5;28mself\u001b[39m\n",
      "\u001b[1;31mValueError\u001b[0m: The number of classes has to be greater than one; got 1 class"
     ]
    }
   ],
   "source": [
    "# Write your code here\n",
    "model.fit(X_train, y_train)"
   ]
  },
  {
   "cell_type": "markdown",
   "metadata": {
    "id": "ETQXYfNx2SZv"
   },
   "source": [
    "<span style=\"color:red;\">**Question 4-5:** How many epochs did the model train before convergence?</span>"
   ]
  },
  {
   "cell_type": "markdown",
   "metadata": {},
   "source": [
    "<span style=\"color:yellow;\">**Answer 4-5: 53 epochs** </span>"
   ]
  },
  {
   "cell_type": "markdown",
   "metadata": {
    "id": "sWNPOVvq2SZw"
   },
   "source": [
    "## Try our trained model on the test data\n",
    "\n",
    "Now, let's get the prediction results on the test data to see if our model can handle unseen data. Store the predicted labels in the variable `predictions`."
   ]
  },
  {
   "cell_type": "code",
   "execution_count": 91,
   "metadata": {
    "executionInfo": {
     "elapsed": 30,
     "status": "aborted",
     "timestamp": 1657871742222,
     "user": {
      "displayName": "Courtney Ngo",
      "userId": "01361140591205022195"
     },
     "user_tz": -480
    },
    "id": "C1obi02o2SZx"
   },
   "outputs": [],
   "source": [
    "# Write your code here\n",
    "predictions = model.predict(X_train)"
   ]
  },
  {
   "cell_type": "markdown",
   "metadata": {},
   "source": [
    "Print the predictions."
   ]
  },
  {
   "cell_type": "code",
   "execution_count": 92,
   "metadata": {},
   "outputs": [
    {
     "name": "stdout",
     "output_type": "stream",
     "text": [
      "[0 0 1 0 0 0 0 1 0 0 0 1 0 1 1 0 0 0 0 1 0 0 0 0 1 1 0 1 0 1 0 0 0 0 0 0 0\n",
      " 0 1 0 0 0 1 0 0 0 0 1 0 0 1 0 0 0 1 0 1 1 0 1 1 1 0 0 0 0 0 0 1 0 0 1 0 0\n",
      " 0 1 0 0 0 0 0 0 0 1 1 0 0 0 1 0 0 0 0 1 1 0 0 1 0 0 0 0 1 0 1 0 1 1 1 1 1\n",
      " 1 0 0 0 0 0 1 0 0 0 0 0 0 1 0 1 0 1 1 0 0 0 1 1 0 1 1 0 0 0 0 1 0 1 1 1 0\n",
      " 1 1 0 0 0 1 0 0 1 0 0 0 0 0 1 0 1 0 1 0 0 1 1 1 0 0 1 1 0 1 0 1 0 0 0 0 0\n",
      " 1 0 0 1 0 0 0 1 0 0 0 0 1 0 0 1 0 0 0 0 0 0 0 0]\n"
     ]
    }
   ],
   "source": [
    "print(predictions)"
   ]
  },
  {
   "cell_type": "markdown",
   "metadata": {
    "id": "WnCiT3JR2SZx"
   },
   "source": [
    "Compare the ground truth labels with the predicted labels. Store the total number of correct predictions in the variable `num_correct`."
   ]
  },
  {
   "cell_type": "code",
   "execution_count": 93,
   "metadata": {
    "executionInfo": {
     "elapsed": 29,
     "status": "aborted",
     "timestamp": 1657871742222,
     "user": {
      "displayName": "Courtney Ngo",
      "userId": "01361140591205022195"
     },
     "user_tz": -480
    },
    "id": "45155Xxx2SZy"
   },
   "outputs": [],
   "source": [
    "# Write your code here\n",
    "num_correct = sum(predictions == y_train)"
   ]
  },
  {
   "cell_type": "markdown",
   "metadata": {},
   "source": [
    "Print the number of correct predictions."
   ]
  },
  {
   "cell_type": "code",
   "execution_count": 94,
   "metadata": {},
   "outputs": [
    {
     "name": "stdout",
     "output_type": "stream",
     "text": [
      "204\n"
     ]
    }
   ],
   "source": [
    "print(num_correct)"
   ]
  },
  {
   "cell_type": "markdown",
   "metadata": {
    "id": "tiJvrWiC2SZ5"
   },
   "source": [
    "Compute for the accuracy. Store the accuracy in the variable `accuracy`."
   ]
  },
  {
   "cell_type": "code",
   "execution_count": 95,
   "metadata": {
    "executionInfo": {
     "elapsed": 30,
     "status": "aborted",
     "timestamp": 1657871742223,
     "user": {
      "displayName": "Courtney Ngo",
      "userId": "01361140591205022195"
     },
     "user_tz": -480
    },
    "id": "gQHJEaXy2SZ5"
   },
   "outputs": [],
   "source": [
    "# Write your code here\n",
    "accuracy = num_correct / len(y_train)"
   ]
  },
  {
   "cell_type": "markdown",
   "metadata": {},
   "source": [
    "Print the accuracy."
   ]
  },
  {
   "cell_type": "code",
   "execution_count": 96,
   "metadata": {},
   "outputs": [
    {
     "name": "stdout",
     "output_type": "stream",
     "text": [
      "0.9760765550239234\n"
     ]
    }
   ],
   "source": [
    "print(accuracy)"
   ]
  },
  {
   "cell_type": "markdown",
   "metadata": {
    "id": "U9wQQlOj2SZ6"
   },
   "source": [
    "<span style=\"color:red;\">**Question 4-6:** What is the accuracy of the model when evaluated on the test set? Express your answer in a floating point number from 0 to 1. Limit to 4 decimal places.</span>"
   ]
  },
  {
   "cell_type": "markdown",
   "metadata": {},
   "source": [
    "<span style=\"color:yellow;\">**Answer 4-6: 0.9760** </span>"
   ]
  },
  {
   "cell_type": "markdown",
   "metadata": {
    "id": "x5mX0ybp2SZ7"
   },
   "source": [
    "## Mini-batch gradient descent\n",
    "If you read the doc, you would notice that SGDClassifier's `fit()` function implements (single-instance) stochastic gradient descent to approximate the weight values. Let's try to implement the mini-batch gradient descent by using the classifier's `partial_fit()` method instead. \n",
    "\n",
    "- This will require repetitive (looped) calls of the function `partial_fit()`.\n",
    "- We will also need to get a subset of the data, a randomly selected subset per iteration. You will have to implement how to randomly select the mini-batch the model will train on."
   ]
  },
  {
   "cell_type": "markdown",
   "metadata": {
    "id": "DAGklJ_v2SZ7"
   },
   "source": [
    "Let's learn how to access elements of the array based on its indices. In the example below, `sample_array` contains values from 4 to 14, while `chosen_index` contains values 1, 3, 5. "
   ]
  },
  {
   "cell_type": "code",
   "execution_count": 97,
   "metadata": {
    "executionInfo": {
     "elapsed": 30,
     "status": "aborted",
     "timestamp": 1657871742223,
     "user": {
      "displayName": "Courtney Ngo",
      "userId": "01361140591205022195"
     },
     "user_tz": -480
    },
    "id": "WpWDmpcH2SZ9"
   },
   "outputs": [
    {
     "name": "stdout",
     "output_type": "stream",
     "text": [
      "Array: [ 4  5  6  7  8  9 10 11 12 13 14]\n",
      "Chosen indices: [1, 3, 5]\n"
     ]
    }
   ],
   "source": [
    "# Scratch cell. Don't use the variables from the other cells\n",
    "sample_array = np.arange(4, 15, 1)\n",
    "chosen_index = [1, 3, 5]\n",
    "\n",
    "print('Array:', sample_array)\n",
    "print('Chosen indices:', chosen_index)"
   ]
  },
  {
   "cell_type": "markdown",
   "metadata": {
    "id": "trPFQkNr2SaA"
   },
   "source": [
    "Let's select a subset of `sample_array` by filtering it through the indices in `chosen_index`. Thus, `subset_array` will contain values from the `sample_array` with index 1, 3, and 5, which is 5, 7, 9."
   ]
  },
  {
   "cell_type": "code",
   "execution_count": 98,
   "metadata": {
    "executionInfo": {
     "elapsed": 31,
     "status": "aborted",
     "timestamp": 1657871742224,
     "user": {
      "displayName": "Courtney Ngo",
      "userId": "01361140591205022195"
     },
     "user_tz": -480
    },
    "id": "hQIcCWRf2SaB"
   },
   "outputs": [
    {
     "name": "stdout",
     "output_type": "stream",
     "text": [
      "[5 7 9]\n"
     ]
    }
   ],
   "source": [
    "# Scratch cell\n",
    "subset_array = sample_array[chosen_index]\n",
    "print(subset_array)"
   ]
  },
  {
   "cell_type": "markdown",
   "metadata": {
    "id": "VUWLJKwJ2SaD"
   },
   "source": [
    "## Creating a `DataLoader` class\n",
    "\n",
    "A data loader is usually used to shuffle the dataset and to divide it into multiple batches according to a batch size. For example, suppose that you have 20 instances in your dataset and you set your batch size to 5. Thus, a `DataLoader` object will divide your dataset into 4 batches with 5 instances each. If you are training your model, `DataLoader` should shuffle the instances. During testing, instances are not usually shuffled.\n",
    "\n",
    "Open `data_loader.py` file. Some of the functions in the `DataLoader` class are not yet implemented. We will implement the missing parts of this class. We will use this in implementing our mini-batch gradient descent."
   ]
  },
  {
   "cell_type": "markdown",
   "metadata": {
    "id": "ovUcBbnn2SaE"
   },
   "source": [
    "Import the `DataLoader` class."
   ]
  },
  {
   "cell_type": "code",
   "execution_count": 99,
   "metadata": {
    "executionInfo": {
     "elapsed": 31,
     "status": "aborted",
     "timestamp": 1657871742224,
     "user": {
      "displayName": "Courtney Ngo",
      "userId": "01361140591205022195"
     },
     "user_tz": -480
    },
    "id": "faB5N14b2SaE"
   },
   "outputs": [],
   "source": [
    "from data_loader import DataLoader"
   ]
  },
  {
   "cell_type": "markdown",
   "metadata": {
    "id": "FaadoFAB2SaE"
   },
   "source": [
    "Let's create a dummy data, where `sample_X` contains the data and `sample_y` contains the corresponding ground truth labels. The variable `sample_X` has 20 instances with 5 features, where the value in each row corresponds to its index in the array."
   ]
  },
  {
   "cell_type": "code",
   "execution_count": 100,
   "metadata": {
    "executionInfo": {
     "elapsed": 31,
     "status": "aborted",
     "timestamp": 1657871742225,
     "user": {
      "displayName": "Courtney Ngo",
      "userId": "01361140591205022195"
     },
     "user_tz": -480
    },
    "id": "8jV96XP72SaF"
   },
   "outputs": [
    {
     "name": "stdout",
     "output_type": "stream",
     "text": [
      "X\n",
      " [[ 0  0  0  0  0]\n",
      " [ 1  1  1  1  1]\n",
      " [ 2  2  2  2  2]\n",
      " [ 3  3  3  3  3]\n",
      " [ 4  4  4  4  4]\n",
      " [ 5  5  5  5  5]\n",
      " [ 6  6  6  6  6]\n",
      " [ 7  7  7  7  7]\n",
      " [ 8  8  8  8  8]\n",
      " [ 9  9  9  9  9]\n",
      " [10 10 10 10 10]\n",
      " [11 11 11 11 11]\n",
      " [12 12 12 12 12]\n",
      " [13 13 13 13 13]\n",
      " [14 14 14 14 14]\n",
      " [15 15 15 15 15]\n",
      " [16 16 16 16 16]\n",
      " [17 17 17 17 17]\n",
      " [18 18 18 18 18]\n",
      " [19 19 19 19 19]]\n",
      "y\n",
      " [0 1 0 1 0 1 0 1 0 1 0 1 0 1 0 1 0 1 0 1]\n"
     ]
    }
   ],
   "source": [
    "sample_X = np.array([[i for _ in range(5)] for i in range(20)])\n",
    "sample_y = np.array([1 if i % 2 == 1 else 0 for i in range(20)])\n",
    "\n",
    "print('X\\n', sample_X)\n",
    "print('y\\n', sample_y)"
   ]
  },
  {
   "cell_type": "markdown",
   "metadata": {
    "id": "AA3sZg9i2SaF"
   },
   "source": [
    "Instantiate a `DataLoader` object. Pass `sample_X` as our `X`, `sample_y` as our `y`, and `5` as our `batch_size`."
   ]
  },
  {
   "cell_type": "code",
   "execution_count": 101,
   "metadata": {
    "executionInfo": {
     "elapsed": 31,
     "status": "aborted",
     "timestamp": 1657871742225,
     "user": {
      "displayName": "Courtney Ngo",
      "userId": "01361140591205022195"
     },
     "user_tz": -480
    },
    "id": "GvjJgDTk2SaF"
   },
   "outputs": [],
   "source": [
    "# Write your code here\n",
    "from data_loader import DataLoader\n",
    "\n",
    "data_loader = DataLoader(sample_X, sample_y, 5)"
   ]
  },
  {
   "cell_type": "markdown",
   "metadata": {
    "id": "pZdRzs-l2SaG"
   },
   "source": [
    "Open `data_loader.py` file and complete the `shuffle()` function in the `DataLoader` class. This function shuffles the indices of the dataset."
   ]
  },
  {
   "cell_type": "markdown",
   "metadata": {
    "id": "Mm_7Ylt32SaG"
   },
   "source": [
    "Implement the `shuffle()` function  in the `DataLoader` class. Inline comments should help you in completing the contents of the function. Upon implementing the function, execute the code below."
   ]
  },
  {
   "cell_type": "code",
   "execution_count": 102,
   "metadata": {
    "executionInfo": {
     "elapsed": 32,
     "status": "aborted",
     "timestamp": 1657871742226,
     "user": {
      "displayName": "Courtney Ngo",
      "userId": "01361140591205022195"
     },
     "user_tz": -480
    },
    "id": "prIurjAR2SaH"
   },
   "outputs": [
    {
     "name": "stdout",
     "output_type": "stream",
     "text": [
      "[ 3 16  6 10  2 14  4 17  7  1 13  0 19 18  9 15  8 12 11  5]\n"
     ]
    }
   ],
   "source": [
    "data_loader.shuffle()\n",
    "print(data_loader.indices)"
   ]
  },
  {
   "cell_type": "markdown",
   "metadata": {
    "id": "sjZyI0c02SaI"
   },
   "source": [
    "<span style=\"color:red;\">**Question 4-7:** What are the indices of the first batch after calling the `shuffle()` function?</span>"
   ]
  },
  {
   "cell_type": "markdown",
   "metadata": {},
   "source": [
    "<span style=\"color:yellow;\">**Answer 4-7:** [ 3 16  6 10  2 14  4 17  7  1 13  0 19 18  9 15  8 12 11  5] </span>"
   ]
  },
  {
   "cell_type": "markdown",
   "metadata": {
    "id": "lYYJA3lV2SaJ"
   },
   "source": [
    "Open `data_loader.py` file and complete the `get_batch()` function in the `DataLoader` class. This function returns `X` and `y` divided into different batches of size `batch_size`."
   ]
  },
  {
   "cell_type": "markdown",
   "metadata": {
    "id": "9wmW-h5b2SaK"
   },
   "source": [
    "Implement the `get_batch()` function  in the `DataLoader` class. Inline comments should help you in completing the contents of the function."
   ]
  },
  {
   "cell_type": "markdown",
   "metadata": {},
   "source": [
    "Get the batches by calling the function `get_batch()` and assign the return value to the variable `batches`."
   ]
  },
  {
   "cell_type": "code",
   "execution_count": 103,
   "metadata": {
    "executionInfo": {
     "elapsed": 31,
     "status": "aborted",
     "timestamp": 1657871742226,
     "user": {
      "displayName": "Courtney Ngo",
      "userId": "01361140591205022195"
     },
     "user_tz": -480
    },
    "id": "-Hw41ERA2SaK"
   },
   "outputs": [],
   "source": [
    "# Write your code here\n",
    "batches = data_loader.get_batch()"
   ]
  },
  {
   "cell_type": "markdown",
   "metadata": {
    "id": "j24EuRF82SaK"
   },
   "source": [
    "Let's print the first batch of instances. The first batch should contain 5 instances."
   ]
  },
  {
   "cell_type": "code",
   "execution_count": 45,
   "metadata": {
    "executionInfo": {
     "elapsed": 32,
     "status": "aborted",
     "timestamp": 1657871742227,
     "user": {
      "displayName": "Courtney Ngo",
      "userId": "01361140591205022195"
     },
     "user_tz": -480
    },
    "id": "AKPE9BVJ2SaK"
   },
   "outputs": [
    {
     "name": "stdout",
     "output_type": "stream",
     "text": [
      "First batch:\n",
      "X [[0 0 0 0 0]\n",
      " [1 1 1 1 1]\n",
      " [2 2 2 2 2]\n",
      " [3 3 3 3 3]\n",
      " [4 4 4 4 4]]\n",
      "y [0 1 0 1 0]\n"
     ]
    }
   ],
   "source": [
    "X_batch, y_batch = batches\n",
    "\n",
    "print('First batch:')\n",
    "print('X', X_batch[0])\n",
    "print('y', y_batch[0])"
   ]
  },
  {
   "cell_type": "markdown",
   "metadata": {
    "id": "xZQu-DJg2SaM"
   },
   "source": [
    "<span style=\"color:red;\">**Question 4-8:** What are the indices of the first batch after calling the `get_batch()` function?</span>"
   ]
  },
  {
   "cell_type": "markdown",
   "metadata": {},
   "source": [
    "<span style=\"color:yellow;\">**Answer 4-8:** First batch:\n",
    "X [[0 0 0 0 0]\n",
    " [1 1 1 1 1]\n",
    " [2 2 2 2 2]\n",
    " [3 3 3 3 3]\n",
    " [4 4 4 4 4]]\n",
    "y [0 1 0 1 0]</span>"
   ]
  },
  {
   "cell_type": "markdown",
   "metadata": {
    "id": "WAh3_Smk2SaN"
   },
   "source": [
    "Training over all the batches (i.e., the whole dataset) constitute 1 epoch. In `scikit`, the hyperparameter `max_iters` actually corresponds to the number of epochs and not the number of iterations if you closely read the documentation."
   ]
  },
  {
   "cell_type": "markdown",
   "metadata": {
    "id": "PxgqRO-n2SaO"
   },
   "source": [
    "## Using the `DataLoader` class to train via mini-batch gradient descent\n",
    "\n",
    "Instantiate an `SGDClassifier` object. Set the following hyperparameters:\n",
    "- Loss function: 'log_loss'\n",
    "- Initial learning rate: 0.001\n",
    "- Learning rate: 'constant'\n",
    "- Random state: 1\n",
    "- Verbose: 0\n",
    "\n",
    "We will not set the hyperparameter `max_iter` since we will be training over the dataset manually using the `DataLoader` class."
   ]
  },
  {
   "cell_type": "code",
   "execution_count": 46,
   "metadata": {
    "executionInfo": {
     "elapsed": 31,
     "status": "aborted",
     "timestamp": 1657871742227,
     "user": {
      "displayName": "Courtney Ngo",
      "userId": "01361140591205022195"
     },
     "user_tz": -480
    },
    "id": "d8av0va42SaO"
   },
   "outputs": [],
   "source": [
    "# Write your code here\n",
    "model = SGDClassifier(loss='log_loss', eta0=0.001, learning_rate='constant', random_state=1, verbose=0)"
   ]
  },
  {
   "cell_type": "markdown",
   "metadata": {},
   "source": [
    "Set the maximum number of epochs to 200."
   ]
  },
  {
   "cell_type": "code",
   "execution_count": 47,
   "metadata": {},
   "outputs": [],
   "source": [
    "max_epochs = 200"
   ]
  },
  {
   "cell_type": "markdown",
   "metadata": {
    "id": "eYAVAIaJ2SaO"
   },
   "source": [
    "Instantiate a `DataLoader` object. Pass the `X` and `y` of the train set of the Cat Dataset and `10` as our `batch_size`."
   ]
  },
  {
   "cell_type": "code",
   "execution_count": 48,
   "metadata": {
    "executionInfo": {
     "elapsed": 31,
     "status": "aborted",
     "timestamp": 1657871742227,
     "user": {
      "displayName": "Courtney Ngo",
      "userId": "01361140591205022195"
     },
     "user_tz": -480
    },
    "id": "2RRJSCmL2SaP"
   },
   "outputs": [],
   "source": [
    "# Write your code here\n",
    "data_loader = DataLoader(X_train, y_train, 10)"
   ]
  },
  {
   "cell_type": "markdown",
   "metadata": {
    "id": "yiboolJp2SaP"
   },
   "source": [
    "Train your model. Complete the code below."
   ]
  },
  {
   "cell_type": "code",
   "execution_count": 49,
   "metadata": {
    "executionInfo": {
     "elapsed": 31,
     "status": "aborted",
     "timestamp": 1657871742228,
     "user": {
      "displayName": "Courtney Ngo",
      "userId": "01361140591205022195"
     },
     "user_tz": -480
    },
    "id": "a9OXk8hT2SaQ"
   },
   "outputs": [
    {
     "name": "stdout",
     "output_type": "stream",
     "text": [
      "Epoch: 1 \tLoss: 0.9262299345180056\n",
      "Epoch: 2 \tLoss: 0.8201233513522788\n",
      "Epoch: 3 \tLoss: 0.7612147714998269\n",
      "Epoch: 4 \tLoss: 0.7156796476901393\n",
      "Epoch: 5 \tLoss: 0.6782854465179718\n",
      "Epoch: 6 \tLoss: 0.6467369755744604\n",
      "Epoch: 7 \tLoss: 0.6194017701678692\n",
      "Epoch: 8 \tLoss: 0.5951948154288027\n",
      "Epoch: 9 \tLoss: 0.5734568052415268\n",
      "Epoch: 10 \tLoss: 0.5537890287522446\n",
      "Epoch: 11 \tLoss: 0.5359198892107875\n",
      "Epoch: 12 \tLoss: 0.5196251795594775\n",
      "Epoch: 13 \tLoss: 0.5046967107522614\n",
      "Epoch: 14 \tLoss: 0.4909399460693444\n",
      "Epoch: 15 \tLoss: 0.4781815889390021\n",
      "Epoch: 16 \tLoss: 0.4662752218258128\n",
      "Epoch: 17 \tLoss: 0.4551020261928226\n",
      "Epoch: 18 \tLoss: 0.4445678426474451\n",
      "Epoch: 19 \tLoss: 0.4345984042034389\n",
      "Epoch: 20 \tLoss: 0.42513468360167345\n",
      "Epoch: 21 \tLoss: 0.41612877190215647\n",
      "Epoch: 22 \tLoss: 0.40754075503451986\n",
      "Epoch: 23 \tLoss: 0.39933646298317893\n",
      "Epoch: 24 \tLoss: 0.39148596222263177\n",
      "Epoch: 25 \tLoss: 0.38396240494631495\n",
      "Epoch: 26 \tLoss: 0.3767415933509641\n",
      "Epoch: 27 \tLoss: 0.36980149412297414\n",
      "Epoch: 28 \tLoss: 0.36312192586320713\n",
      "Epoch: 29 \tLoss: 0.3566845081337201\n",
      "Epoch: 30 \tLoss: 0.35047249720930534\n",
      "Epoch: 31 \tLoss: 0.34447066044958163\n",
      "Epoch: 32 \tLoss: 0.33866512250823416\n",
      "Epoch: 33 \tLoss: 0.33304339550243234\n",
      "Epoch: 34 \tLoss: 0.32759420750519075\n",
      "Epoch: 35 \tLoss: 0.322307302981124\n",
      "Epoch: 36 \tLoss: 0.31717352791466447\n",
      "Epoch: 37 \tLoss: 0.3121845908413243\n",
      "Epoch: 38 \tLoss: 0.30733299563529687\n",
      "Epoch: 39 \tLoss: 0.3026120067294817\n",
      "Epoch: 40 \tLoss: 0.29801547053427824\n",
      "Epoch: 41 \tLoss: 0.29353789376676115\n",
      "Epoch: 42 \tLoss: 0.2891741151657412\n",
      "Epoch: 43 \tLoss: 0.28491952140818\n",
      "Epoch: 44 \tLoss: 0.2807698072865539\n",
      "Epoch: 45 \tLoss: 0.27672099285807783\n",
      "Epoch: 46 \tLoss: 0.2727693554805164\n",
      "Epoch: 47 \tLoss: 0.2689114396732882\n",
      "Epoch: 48 \tLoss: 0.2651439602423566\n",
      "Epoch: 49 \tLoss: 0.2614638276570851\n",
      "Epoch: 50 \tLoss: 0.25786816227343323\n",
      "Epoch: 51 \tLoss: 0.2543541227686398\n",
      "Epoch: 52 \tLoss: 0.25091908682957226\n",
      "Epoch: 53 \tLoss: 0.24756050851272116\n",
      "Epoch: 54 \tLoss: 0.24427597394404446\n",
      "Epoch: 55 \tLoss: 0.24106313249493921\n",
      "Epoch: 56 \tLoss: 0.23791978075932013\n",
      "Epoch: 57 \tLoss: 0.2348438103117791\n",
      "Epoch: 58 \tLoss: 0.2318331519838092\n",
      "Epoch: 59 \tLoss: 0.22888587067199753\n",
      "Epoch: 60 \tLoss: 0.22600007112960935\n",
      "Epoch: 61 \tLoss: 0.22317397440545128\n",
      "Epoch: 62 \tLoss: 0.22040582660022073\n",
      "Epoch: 63 \tLoss: 0.21769399674297607\n",
      "Epoch: 64 \tLoss: 0.21503693136279184\n",
      "Epoch: 65 \tLoss: 0.21243306624275599\n",
      "Epoch: 66 \tLoss: 0.20988099131421237\n",
      "Epoch: 67 \tLoss: 0.2073792795900013\n",
      "Epoch: 68 \tLoss: 0.20492661772224272\n",
      "Epoch: 69 \tLoss: 0.20252172560209397\n",
      "Epoch: 70 \tLoss: 0.200163386820542\n",
      "Epoch: 71 \tLoss: 0.1978503930312265\n",
      "Epoch: 72 \tLoss: 0.1955816484403139\n",
      "Epoch: 73 \tLoss: 0.19335603173514734\n",
      "Epoch: 74 \tLoss: 0.19117249277938236\n",
      "Epoch: 75 \tLoss: 0.1890300022409445\n",
      "Epoch: 76 \tLoss: 0.1869276033898758\n",
      "Epoch: 77 \tLoss: 0.18486432871529165\n",
      "Epoch: 78 \tLoss: 0.182839233939286\n",
      "Epoch: 79 \tLoss: 0.1808514663237895\n",
      "Epoch: 80 \tLoss: 0.17890014119245196\n",
      "Epoch: 81 \tLoss: 0.17698440061138823\n",
      "Epoch: 82 \tLoss: 0.17510345260577356\n",
      "Epoch: 83 \tLoss: 0.17325645888996294\n",
      "Epoch: 84 \tLoss: 0.17144264198797768\n",
      "Epoch: 85 \tLoss: 0.1696612793148391\n",
      "Epoch: 86 \tLoss: 0.1679115809353958\n",
      "Epoch: 87 \tLoss: 0.1661928629581262\n",
      "Epoch: 88 \tLoss: 0.16450439087819263\n",
      "Epoch: 89 \tLoss: 0.16284548026495388\n",
      "Epoch: 90 \tLoss: 0.1612154181682382\n",
      "Epoch: 91 \tLoss: 0.15961357018960284\n",
      "Epoch: 92 \tLoss: 0.1580392707988454\n",
      "Epoch: 93 \tLoss: 0.1564918913526458\n",
      "Epoch: 94 \tLoss: 0.1549707833616604\n",
      "Epoch: 95 \tLoss: 0.1534753341491456\n",
      "Epoch: 96 \tLoss: 0.15200497698271662\n",
      "Epoch: 97 \tLoss: 0.15055912763975848\n",
      "Epoch: 98 \tLoss: 0.14913716754786194\n",
      "Epoch: 99 \tLoss: 0.14773855897147667\n",
      "Epoch: 100 \tLoss: 0.1463627669778758\n",
      "Epoch: 101 \tLoss: 0.14500926075047288\n",
      "Epoch: 102 \tLoss: 0.14367749189646264\n",
      "Epoch: 103 \tLoss: 0.14236695543849434\n",
      "Epoch: 104 \tLoss: 0.1410771776890465\n",
      "Epoch: 105 \tLoss: 0.1398076466773944\n",
      "Epoch: 106 \tLoss: 0.13855787190194538\n",
      "Epoch: 107 \tLoss: 0.13732743446692244\n",
      "Epoch: 108 \tLoss: 0.13611585740958326\n",
      "Epoch: 109 \tLoss: 0.1349227168775939\n",
      "Epoch: 110 \tLoss: 0.13374755665729418\n",
      "Epoch: 111 \tLoss: 0.13258994239142688\n",
      "Epoch: 112 \tLoss: 0.13144952181856395\n",
      "Epoch: 113 \tLoss: 0.13032587067823145\n",
      "Epoch: 114 \tLoss: 0.12921860454307796\n",
      "Epoch: 115 \tLoss: 0.12812735074368797\n",
      "Epoch: 116 \tLoss: 0.12705173882288875\n",
      "Epoch: 117 \tLoss: 0.12599142952487746\n",
      "Epoch: 118 \tLoss: 0.12494605795471635\n",
      "Epoch: 119 \tLoss: 0.12391530580822388\n",
      "Epoch: 120 \tLoss: 0.12289885489779737\n",
      "Epoch: 121 \tLoss: 0.12189635739088416\n",
      "Epoch: 122 \tLoss: 0.12090753214242482\n",
      "Epoch: 123 \tLoss: 0.11993208905307047\n",
      "Epoch: 124 \tLoss: 0.11896970383641743\n",
      "Epoch: 125 \tLoss: 0.11802013593266444\n",
      "Epoch: 126 \tLoss: 0.1170830463679714\n",
      "Epoch: 127 \tLoss: 0.11615827301428627\n",
      "Epoch: 128 \tLoss: 0.11524546045525721\n",
      "Epoch: 129 \tLoss: 0.11434442556535952\n",
      "Epoch: 130 \tLoss: 0.11345489737421428\n",
      "Epoch: 131 \tLoss: 0.11257663174706665\n",
      "Epoch: 132 \tLoss: 0.11170941893822792\n",
      "Epoch: 133 \tLoss: 0.11085299908213068\n",
      "Epoch: 134 \tLoss: 0.11000721525847704\n",
      "Epoch: 135 \tLoss: 0.10917180347249181\n",
      "Epoch: 136 \tLoss: 0.1083465975810223\n",
      "Epoch: 137 \tLoss: 0.10753137905593053\n",
      "Epoch: 138 \tLoss: 0.10672596406387524\n",
      "Epoch: 139 \tLoss: 0.10593017449836457\n",
      "Epoch: 140 \tLoss: 0.10514381136424143\n",
      "Epoch: 141 \tLoss: 0.10436668978178909\n",
      "Epoch: 142 \tLoss: 0.10359868251094798\n",
      "Epoch: 143 \tLoss: 0.10283958132116078\n",
      "Epoch: 144 \tLoss: 0.10208921347964584\n",
      "Epoch: 145 \tLoss: 0.10134745225818725\n",
      "Epoch: 146 \tLoss: 0.10061416239646569\n",
      "Epoch: 147 \tLoss: 0.09988915262225571\n",
      "Epoch: 148 \tLoss: 0.09917230809246351\n",
      "Epoch: 149 \tLoss: 0.09846344733586425\n",
      "Epoch: 150 \tLoss: 0.0977624838672859\n",
      "Epoch: 151 \tLoss: 0.09706926496305972\n",
      "Epoch: 152 \tLoss: 0.09638363447820554\n",
      "Epoch: 153 \tLoss: 0.09570549197143283\n",
      "Epoch: 154 \tLoss: 0.09503469873789709\n",
      "Epoch: 155 \tLoss: 0.09437116562608137\n",
      "Epoch: 156 \tLoss: 0.09371473490151801\n",
      "Epoch: 157 \tLoss: 0.09306532530413683\n",
      "Epoch: 158 \tLoss: 0.09242282886365982\n",
      "Epoch: 159 \tLoss: 0.09178709065454228\n",
      "Epoch: 160 \tLoss: 0.09115805950562617\n",
      "Epoch: 161 \tLoss: 0.09053559981995371\n",
      "Epoch: 162 \tLoss: 0.08991959570564459\n",
      "Epoch: 163 \tLoss: 0.0893100106333265\n",
      "Epoch: 164 \tLoss: 0.0887066852573266\n",
      "Epoch: 165 \tLoss: 0.08810954167292541\n",
      "Epoch: 166 \tLoss: 0.08751849464012787\n",
      "Epoch: 167 \tLoss: 0.08693345284113978\n",
      "Epoch: 168 \tLoss: 0.08635432861241925\n",
      "Epoch: 169 \tLoss: 0.08578105318297995\n",
      "Epoch: 170 \tLoss: 0.08521351206523724\n",
      "Epoch: 171 \tLoss: 0.08465163739063936\n",
      "Epoch: 172 \tLoss: 0.08409534736909965\n",
      "Epoch: 173 \tLoss: 0.08354455930901342\n",
      "Epoch: 174 \tLoss: 0.08299922854545358\n",
      "Epoch: 175 \tLoss: 0.08245921646490555\n",
      "Epoch: 176 \tLoss: 0.08192452113065883\n",
      "Epoch: 177 \tLoss: 0.08139502448895793\n",
      "Epoch: 178 \tLoss: 0.08087066873694251\n",
      "Epoch: 179 \tLoss: 0.08035138330446238\n",
      "Epoch: 180 \tLoss: 0.07983711390721518\n",
      "Epoch: 181 \tLoss: 0.07932776087068759\n",
      "Epoch: 182 \tLoss: 0.07882327491740256\n",
      "Epoch: 183 \tLoss: 0.07832361406512924\n",
      "Epoch: 184 \tLoss: 0.0778286906756504\n",
      "Epoch: 185 \tLoss: 0.07733846324178024\n",
      "Epoch: 186 \tLoss: 0.07685283835846782\n",
      "Epoch: 187 \tLoss: 0.07637179872522201\n",
      "Epoch: 188 \tLoss: 0.07589526910020833\n",
      "Epoch: 189 \tLoss: 0.0754231663808392\n",
      "Epoch: 190 \tLoss: 0.074955474070952\n",
      "Epoch: 191 \tLoss: 0.07449212051691088\n",
      "Epoch: 192 \tLoss: 0.07403303866843354\n",
      "Epoch: 193 \tLoss: 0.07357819088017867\n",
      "Epoch: 194 \tLoss: 0.07312751744858192\n",
      "Epoch: 195 \tLoss: 0.07268097084756948\n",
      "Epoch: 196 \tLoss: 0.07223851040057447\n",
      "Epoch: 197 \tLoss: 0.07180007335140444\n",
      "Epoch: 198 \tLoss: 0.07136561401788087\n",
      "Epoch: 199 \tLoss: 0.07093510561461612\n",
      "Epoch: 200 \tLoss: 0.07050845996016801\n"
     ]
    }
   ],
   "source": [
    "from sklearn.metrics import log_loss\n",
    "\n",
    "e = 0\n",
    "is_converged = False\n",
    "previous_loss = 0\n",
    "labels = np.unique(y_train)\n",
    "\n",
    "# For each epoch\n",
    "while e < max_epochs and is_converged is not True:\n",
    "    \n",
    "    loss = 0\n",
    "    \n",
    "    # TODO: Get the batch for this epoch.\n",
    "    # X_batch, y_batch = None\n",
    "    X_batch, y_batch = data_loader.get_batch()\n",
    "    \n",
    "    # For each batch\n",
    "    for X, y in zip(X_batch, y_batch):\n",
    "        \n",
    "        # TODO: Partial fit the model to the subset you selected\n",
    "        # In partial fit, you have to pass a classes parameters, use labels as the value\n",
    "        model.partial_fit(X, y, classes=labels)\n",
    "\n",
    "        # Compute the loss\n",
    "        y_pred = model.predict_proba(X_train)\n",
    "        loss += log_loss(y_train, y_pred)\n",
    "        \n",
    "    # Display the average loss per epoch\n",
    "    print('Epoch:', e + 1, '\\tLoss:', (loss / len(X_batch)))\n",
    "    \n",
    "    if abs(previous_loss - loss) < 0.005:\n",
    "        is_converged = True\n",
    "    else:\n",
    "        previous_loss = loss\n",
    "        e += 1"
   ]
  },
  {
   "cell_type": "markdown",
   "metadata": {
    "id": "0TvJPlTn2SaR"
   },
   "source": [
    "<span style=\"color:red;\">**Question 4-9:** How many epochs did the model train before convergence?</span>"
   ]
  },
  {
   "cell_type": "markdown",
   "metadata": {},
   "source": [
    "<span style=\"color:yellow;\">**Answer 4-1:** 200 epochs</span>"
   ]
  },
  {
   "cell_type": "markdown",
   "metadata": {
    "id": "AsxeVGGW2SaS"
   },
   "source": [
    "<span style=\"color:red;\">**Question 4-10:** What is the average loss of the model in epoch 5? Limit to 4 decimal places.</span>"
   ]
  },
  {
   "cell_type": "markdown",
   "metadata": {},
   "source": [
    "<span style=\"color:yellow;\">**Answer 4-1:** 0.6782 average loss</span>"
   ]
  },
  {
   "cell_type": "markdown",
   "metadata": {
    "id": "oe0gyy8r2SaW"
   },
   "source": [
    "## Try our trained model on the test data\n",
    "\n",
    "Now, let's get the prediction results on the test data to see if our model can handle unseen cat images. Store the predicted labels in the variable `predictions`."
   ]
  },
  {
   "cell_type": "code",
   "execution_count": 50,
   "metadata": {
    "executionInfo": {
     "elapsed": 31,
     "status": "aborted",
     "timestamp": 1657871742228,
     "user": {
      "displayName": "Courtney Ngo",
      "userId": "01361140591205022195"
     },
     "user_tz": -480
    },
    "id": "vjm8oafQ2SaW"
   },
   "outputs": [],
   "source": [
    "# Write your code here\n",
    "predictions = model.predict(X_test)"
   ]
  },
  {
   "cell_type": "markdown",
   "metadata": {},
   "source": [
    "Print the predictions."
   ]
  },
  {
   "cell_type": "code",
   "execution_count": 51,
   "metadata": {},
   "outputs": [
    {
     "name": "stdout",
     "output_type": "stream",
     "text": [
      "[1 1 1 1 1 0 0 1 1 1 0 1 1 1 0 1 0 1 0 0 1 0 0 1 0 1 1 0 0 1 0 1 1 0 1 0 0\n",
      " 1 0 0 1 0 1 0 1 1 0 1 1 0]\n"
     ]
    }
   ],
   "source": [
    "print(predictions)"
   ]
  },
  {
   "cell_type": "markdown",
   "metadata": {
    "id": "CG5W7WXE2SaX"
   },
   "source": [
    "Compare the ground truth labels with the predicted labels. Store the total number of correct predictions in the variable `num_correct`."
   ]
  },
  {
   "cell_type": "code",
   "execution_count": 52,
   "metadata": {
    "executionInfo": {
     "elapsed": 31,
     "status": "aborted",
     "timestamp": 1657871742229,
     "user": {
      "displayName": "Courtney Ngo",
      "userId": "01361140591205022195"
     },
     "user_tz": -480
    },
    "id": "P6eI4jo92SaY"
   },
   "outputs": [],
   "source": [
    "# Write your code here\n",
    "num_correct = sum(predictions == y_test)"
   ]
  },
  {
   "cell_type": "markdown",
   "metadata": {},
   "source": [
    "Print the number of correct predictions."
   ]
  },
  {
   "cell_type": "code",
   "execution_count": 53,
   "metadata": {},
   "outputs": [
    {
     "name": "stdout",
     "output_type": "stream",
     "text": [
      "35\n"
     ]
    }
   ],
   "source": [
    "print(num_correct)"
   ]
  },
  {
   "cell_type": "markdown",
   "metadata": {
    "id": "hEK6epEW2Sac"
   },
   "source": [
    "Compute for the accuracy. Store the accuracy in the variable `accuracy`."
   ]
  },
  {
   "cell_type": "code",
   "execution_count": 54,
   "metadata": {
    "executionInfo": {
     "elapsed": 31,
     "status": "aborted",
     "timestamp": 1657871742229,
     "user": {
      "displayName": "Courtney Ngo",
      "userId": "01361140591205022195"
     },
     "user_tz": -480
    },
    "id": "rENLRT_J2Sad"
   },
   "outputs": [],
   "source": [
    "# Write your code here\n",
    "accuracy = num_correct / len(y_test)"
   ]
  },
  {
   "cell_type": "markdown",
   "metadata": {},
   "source": [
    "Print the accuracy."
   ]
  },
  {
   "cell_type": "code",
   "execution_count": 55,
   "metadata": {},
   "outputs": [
    {
     "name": "stdout",
     "output_type": "stream",
     "text": [
      "0.7\n"
     ]
    }
   ],
   "source": [
    "print(accuracy)"
   ]
  },
  {
   "cell_type": "markdown",
   "metadata": {
    "id": "2DN3zBgs2Sae"
   },
   "source": [
    "<span style=\"color:red;\">**Question 4-11:** What is the accuracy of the model when evaluated on the test set? Express your answer in a floating point number from 0 to 1. Limit to 4 decimal places.</span>"
   ]
  },
  {
   "cell_type": "markdown",
   "metadata": {},
   "source": [
    "<span style=\"color:yellow;\">**Answer 4-1:** 0.7 accuracy</span>"
   ]
  },
  {
   "cell_type": "markdown",
   "metadata": {
    "id": "f9fpFaYn2Sag"
   },
   "source": [
    "**Sanity Check:** You will not see much difference in the performance (unless we try a bigger dataset). But mini-batch gradient descent is expected to reach the minimum error (converge) quicker than stochastic gradient descent."
   ]
  },
  {
   "cell_type": "markdown",
   "metadata": {
    "id": "G0A1FPfs2Sag"
   },
   "source": [
    "Store the weights of the model in the variable `weights`. Then, display the first 5 weights of the model."
   ]
  },
  {
   "cell_type": "code",
   "execution_count": 56,
   "metadata": {
    "executionInfo": {
     "elapsed": 31,
     "status": "aborted",
     "timestamp": 1657871742229,
     "user": {
      "displayName": "Courtney Ngo",
      "userId": "01361140591205022195"
     },
     "user_tz": -480
    },
    "id": "odXnv_Fx2Sak"
   },
   "outputs": [
    {
     "name": "stdout",
     "output_type": "stream",
     "text": [
      "[ 0.02104902 -0.03533896 -0.01251762 -0.02846298 -0.08805946]\n"
     ]
    }
   ],
   "source": [
    "# Write your code here\n",
    "weights = model.coef_\n",
    "\n",
    "# first 5 weights\n",
    "print(weights[0][:5])"
   ]
  },
  {
   "cell_type": "code",
   "execution_count": 57,
   "metadata": {},
   "outputs": [
    {
     "name": "stdout",
     "output_type": "stream",
     "text": [
      "12288\n"
     ]
    }
   ],
   "source": [
    "# weights in total\n",
    "print(len(weights[0]))"
   ]
  },
  {
   "cell_type": "markdown",
   "metadata": {
    "id": "-CWesbXt2Sal"
   },
   "source": [
    "<span style=\"color:red;\">**Question 4-12:** How many weights in total does the model have?</span>"
   ]
  },
  {
   "cell_type": "markdown",
   "metadata": {},
   "source": [
    "<span style=\"color:yellow;\">**Answer 4-1:** 12288 weights</span>"
   ]
  },
  {
   "cell_type": "markdown",
   "metadata": {
    "id": "EGIal5pZ2Sao"
   },
   "source": [
    "<span style=\"color:red;\">**Question 4-13:** What is the value of the first weight of the model? Limit to 4 decimal places.</span>"
   ]
  },
  {
   "cell_type": "markdown",
   "metadata": {},
   "source": [
    "<span style=\"color:yellow;\">**Answer 4-1:** 0.0210, -0.0.353, -0.0125, -0.0284, -0.0880</span>"
   ]
  },
  {
   "cell_type": "markdown",
   "metadata": {
    "id": "4gJRh1Z62Sas"
   },
   "source": [
    "<span style=\"color:green;\">**Question:** With respect to the input data, what does each weight represent?</span>"
   ]
  },
  {
   "cell_type": "markdown",
   "metadata": {},
   "source": [
    "<span style=\"color:yellow;\">**Answer 4-1:** Each weight represents...</span>"
   ]
  },
  {
   "cell_type": "markdown",
   "metadata": {
    "id": "toWqPntu2Sau"
   },
   "source": [
    "Print out the probabilities of each instance in the test set being `y=0` and `y=1`."
   ]
  },
  {
   "cell_type": "code",
   "execution_count": 58,
   "metadata": {
    "executionInfo": {
     "elapsed": 31,
     "status": "aborted",
     "timestamp": 1657871742230,
     "user": {
      "displayName": "Courtney Ngo",
      "userId": "01361140591205022195"
     },
     "user_tz": -480
    },
    "id": "QY3Q9SBC2Sav",
    "scrolled": false
   },
   "outputs": [
    {
     "name": "stdout",
     "output_type": "stream",
     "text": [
      "Instance 0: P(y=0) = 0.0122, P(y=1) = 0.9878\n",
      "Instance 1: P(y=0) = 0.0217, P(y=1) = 0.9783\n",
      "Instance 2: P(y=0) = 0.0426, P(y=1) = 0.9574\n",
      "Instance 3: P(y=0) = 0.0067, P(y=1) = 0.9933\n",
      "Instance 4: P(y=0) = 0.1722, P(y=1) = 0.8278\n",
      "Instance 5: P(y=0) = 0.6491, P(y=1) = 0.3509\n",
      "Instance 6: P(y=0) = 0.9989, P(y=1) = 0.0011\n",
      "Instance 7: P(y=0) = 0.0138, P(y=1) = 0.9862\n",
      "Instance 8: P(y=0) = 0.0050, P(y=1) = 0.9950\n",
      "Instance 9: P(y=0) = 0.3546, P(y=1) = 0.6454\n",
      "Instance 10: P(y=0) = 0.8699, P(y=1) = 0.1301\n",
      "Instance 11: P(y=0) = 0.4524, P(y=1) = 0.5476\n",
      "Instance 12: P(y=0) = 0.1378, P(y=1) = 0.8622\n",
      "Instance 13: P(y=0) = 0.0102, P(y=1) = 0.9898\n",
      "Instance 14: P(y=0) = 0.9993, P(y=1) = 0.0007\n",
      "Instance 15: P(y=0) = 0.0146, P(y=1) = 0.9854\n",
      "Instance 16: P(y=0) = 0.9969, P(y=1) = 0.0031\n",
      "Instance 17: P(y=0) = 0.1532, P(y=1) = 0.8468\n",
      "Instance 18: P(y=0) = 0.8815, P(y=1) = 0.1185\n",
      "Instance 19: P(y=0) = 0.9970, P(y=1) = 0.0030\n",
      "Instance 20: P(y=0) = 0.0013, P(y=1) = 0.9987\n",
      "Instance 21: P(y=0) = 0.9172, P(y=1) = 0.0828\n",
      "Instance 22: P(y=0) = 0.9996, P(y=1) = 0.0004\n",
      "Instance 23: P(y=0) = 0.0184, P(y=1) = 0.9816\n",
      "Instance 24: P(y=0) = 0.5822, P(y=1) = 0.4178\n",
      "Instance 25: P(y=0) = 0.3194, P(y=1) = 0.6806\n",
      "Instance 26: P(y=0) = 0.1385, P(y=1) = 0.8615\n",
      "Instance 27: P(y=0) = 0.9999, P(y=1) = 0.0001\n",
      "Instance 28: P(y=0) = 0.9968, P(y=1) = 0.0032\n",
      "Instance 29: P(y=0) = 0.0001, P(y=1) = 0.9999\n",
      "Instance 30: P(y=0) = 0.9600, P(y=1) = 0.0400\n",
      "Instance 31: P(y=0) = 0.0337, P(y=1) = 0.9663\n",
      "Instance 32: P(y=0) = 0.3087, P(y=1) = 0.6913\n",
      "Instance 33: P(y=0) = 0.5322, P(y=1) = 0.4678\n",
      "Instance 34: P(y=0) = 0.4929, P(y=1) = 0.5071\n",
      "Instance 35: P(y=0) = 0.9934, P(y=1) = 0.0066\n",
      "Instance 36: P(y=0) = 0.9698, P(y=1) = 0.0302\n",
      "Instance 37: P(y=0) = 0.0844, P(y=1) = 0.9156\n",
      "Instance 38: P(y=0) = 0.8773, P(y=1) = 0.1227\n",
      "Instance 39: P(y=0) = 0.9956, P(y=1) = 0.0044\n",
      "Instance 40: P(y=0) = 0.0308, P(y=1) = 0.9692\n",
      "Instance 41: P(y=0) = 0.6639, P(y=1) = 0.3361\n",
      "Instance 42: P(y=0) = 0.2699, P(y=1) = 0.7301\n",
      "Instance 43: P(y=0) = 0.9988, P(y=1) = 0.0012\n",
      "Instance 44: P(y=0) = 0.0051, P(y=1) = 0.9949\n",
      "Instance 45: P(y=0) = 0.0125, P(y=1) = 0.9875\n",
      "Instance 46: P(y=0) = 0.8042, P(y=1) = 0.1958\n",
      "Instance 47: P(y=0) = 0.0008, P(y=1) = 0.9992\n",
      "Instance 48: P(y=0) = 0.3384, P(y=1) = 0.6616\n",
      "Instance 49: P(y=0) = 0.9556, P(y=1) = 0.0444\n"
     ]
    }
   ],
   "source": [
    "# Write your code here\n",
    "probabilities = model.predict_proba(X_test)\n",
    "\n",
    "# all probabilities for each instance\n",
    "for i, prob in enumerate(probabilities):\n",
    "    print(f\"Instance {i}: P(y=0) = {prob[0]:.4f}, P(y=1) = {prob[1]:.4f}\")"
   ]
  },
  {
   "cell_type": "markdown",
   "metadata": {},
   "source": [
    "<span style=\"color:red;\">**Question 4-14:** Given the probabilities, what is the class of the 2nd instance in the test set?</span>"
   ]
  },
  {
   "cell_type": "markdown",
   "metadata": {},
   "source": [
    "<span style=\"color:yellow;\">**Answer 4-14:** </span>"
   ]
  },
  {
   "cell_type": "markdown",
   "metadata": {
    "id": "1zNx6JTq2Sav"
   },
   "source": [
    "## Testing with pictures\n",
    "Let's see the actual image next to the ground truth and our model's predictions"
   ]
  },
  {
   "cell_type": "code",
   "execution_count": 59,
   "metadata": {
    "executionInfo": {
     "elapsed": 31,
     "status": "aborted",
     "timestamp": 1657871742230,
     "user": {
      "displayName": "Courtney Ngo",
      "userId": "01361140591205022195"
     },
     "user_tz": -480
    },
    "id": "IYmOhbrr2Sav",
    "scrolled": true
   },
   "outputs": [
    {
     "data": {
      "text/plain": [
       "Text(0.5, 1.0, 'y = cat | prediction = cat')"
      ]
     },
     "execution_count": 59,
     "metadata": {},
     "output_type": "execute_result"
    },
    {
     "data": {
      "image/png": "[encoded data removed]",
      "text/plain": [
       "<Figure size 640x480 with 1 Axes>"
      ]
     },
     "metadata": {},
     "output_type": "display_data"
    }
   ],
   "source": [
    "classes = ['not cat', 'cat']\n",
    "random_index = np.squeeze(np.random.choice(len(y_test), 1))\n",
    "\n",
    "prediction = model.predict([X_test[random_index]])\n",
    "plt.imshow(test_images[int(random_index)])\n",
    "plt.axis('off')\n",
    "plt.title('y = ' + classes[(np.squeeze(y_test[random_index]))] + ' | prediction = ' + classes[np.squeeze(prediction)])"
   ]
  },
  {
   "cell_type": "markdown",
   "metadata": {
    "id": "F2xJFwKm2Sav"
   },
   "source": [
    "# Conclusion\n",
    "\n",
    "Contrary to what its name implies, logistic regression is not a regression model. It is used for classification.\n",
    "\n",
    "It is named like that because logistic regression is just like linear regression up until the activation function (sigmoid/logistic). But, instead of giving a raw score, the scores are plugged into a logistic/sigmoid function which returns the probability of whether it's y==1. Sigmoid/logistic is the first activiation function we have encountered, but there are various others which we will encounter soon in neural networks.\n",
    "\n",
    "As you should've seen in an earlier cell, the probabilities of the model will always be given out in 2s for binomial - one for each of your classes. They both should total to 1. In the next notebook, we will tackle multinomial logistic regression where there are more than 2 classes. You will see the same format for your probabilities, but now the shape will be `(num_test, num_classes)`.\n",
    "\n",
    "As we are already classifying, we normally won't present our hypothesis model as the line that tries to capture our model. Instead, we should think about boundaries between the two classes.\n"
   ]
  },
  {
   "cell_type": "markdown",
   "metadata": {
    "id": "4EkNkqDx2Saw"
   },
   "source": [
    "### <center>fin</center>"
   ]
  },
  {
   "cell_type": "markdown",
   "metadata": {
    "id": "wQOM0z0L2Saw"
   },
   "source": [
    "\n",
    "<!-- DO NOT MODIFY OR DELETE THIS -->\n",
    "<sup>made/compiled by daniel stanley tan & courtney anne ngo 🐰 & thomas james tiam-lee</sup> <br>\n",
    "<sup>for comments, corrections, suggestions, please email:</sup><sup> danieltan07@gmail.com & courtneyngo@gmail.com & thomasjamestiamlee@gmail.com</sup><br>\n",
    "<sup>please cc your instructor, too</sup>\n",
    "<!-- DO NOT MODIFY OR DELETE THIS -->"
   ]
  }
 ],
 "metadata": {
  "colab": {
   "name": "03b - Logistic Regression - Answer.ipynb",
   "provenance": []
  },
  "kernelspec": {
   "display_name": "Python 3",
   "language": "python",
   "name": "python3"
  },
  "language_info": {
   "codemirror_mode": {
    "name": "ipython",
    "version": 3
   },
   "file_extension": ".py",
   "mimetype": "text/x-python",
   "name": "python",
   "nbconvert_exporter": "python",
   "pygments_lexer": "ipython3",
   "version": "3.12.7"
  }
 },
 "nbformat": 4,
 "nbformat_minor": 1
}
